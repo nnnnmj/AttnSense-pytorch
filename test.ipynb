{
 "cells": [
  {
   "cell_type": "code",
   "execution_count": null,
   "metadata": {},
   "outputs": [],
   "source": [
    "import torch"
   ]
  },
  {
   "cell_type": "code",
   "execution_count": null,
   "metadata": {},
   "outputs": [],
   "source": [
    "mm = torch.tensor([0,0.2,0.8])\n",
    "nn = torch.tensor([0.1,0.3,0.6])\n",
    "pred = torch.stack((mm,nn),0)\n",
    "print(pred.shape, pred)\n",
    "pred_label = torch.argmax(pred, dim=1)\n",
    "print(pred_label)\n",
    "\n",
    "# Calculate the index of the maximum value along axis 1 for both 'pred' and 'y'\n",
    "pred_idx = torch.argmax(pred, dim=1)\n",
    "y_idx = torch.argmax(y, dim=1)\n",
    "\n",
    "# Check for correct predictions by comparing 'pred_idx' with 'y_idx'\n",
    "correct_pred = pred_idx.eq(y_idx)\n",
    "\n",
    "# Calculate the accuracy by taking the mean of the correct predictions\n",
    "accuracy = correct_pred.float().mean()"
   ]
  }
 ],
 "metadata": {
  "kernelspec": {
   "display_name": "tf",
   "language": "python",
   "name": "python3"
  },
  "language_info": {
   "name": "python",
   "version": "3.11.4"
  },
  "orig_nbformat": 4
 },
 "nbformat": 4,
 "nbformat_minor": 2
}
