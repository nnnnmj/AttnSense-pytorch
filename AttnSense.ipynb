{
 "cells": [
  {
   "cell_type": "code",
   "execution_count": 1,
   "metadata": {},
   "outputs": [],
   "source": [
    "import os\n",
    "import sys\n",
    "import numpy as np\n",
    "import pandas as pd\n",
    "import matplotlib.pyplot as plt\n",
    "import seaborn as sns\n",
    "\n",
    "import torch\n",
    "import torch.nn as nn\n",
    "import torch.nn.functional as F\n",
    "import torch.optim as optim\n",
    "from torch.utils.data import Dataset, DataLoader, TensorDataset, RandomSampler, SequentialSampler, random_split\n",
    "import timeit\n",
    "import math\n",
    "import pickle\n",
    "\n",
    "from sklearn.metrics import confusion_matrix"
   ]
  },
  {
   "cell_type": "markdown",
   "metadata": {},
   "source": [
    "## 1. Data preprocessing"
   ]
  },
  {
   "cell_type": "markdown",
   "metadata": {},
   "source": [
    "### 1.1 read data"
   ]
  },
  {
   "cell_type": "code",
   "execution_count": 2,
   "metadata": {},
   "outputs": [
    {
     "name": "stdout",
     "output_type": "stream",
     "text": [
      "[[0.0], [0.0], [0.0], [0.0], [0.0], [0.0], [0.0]]\n"
     ]
    }
   ],
   "source": [
    "defaultVal = [[0.] for idx in range(2*3 + 1)]\n",
    "print(defaultVal)"
   ]
  },
  {
   "cell_type": "code",
   "execution_count": 3,
   "metadata": {},
   "outputs": [],
   "source": [
    "# get the data of the subject and returns df with the relevant information\n",
    "def prep_data(path, subject):\n",
    "    data = pd.read_csv(path, sep=' ', header=None)\n",
    "    data.columns = pd.RangeIndex(1, len(data.columns) + 1) \n",
    "    data.drop(3, axis='columns', inplace=True)\n",
    "    data = data.dropna()\n",
    "    data = data[[1,2,22,23,24,28,29,30]]\n",
    "    cols = {1: 'time_step', 2: 'activity_id', 22: 'acc_x', 23: 'acc_y', 24: 'acc_z', 28: 'gyro_x', 29: 'gyro_y', 30: 'gyro_z'}\n",
    "    data = data.rename(columns=cols)\n",
    "    # calculating norm\n",
    "    data['acc_norm'] = np.sqrt(data['acc_x'] ** 2 + data['acc_y'] ** 2 + data['acc_z'] ** 2)\n",
    "    data['gyro_norm'] = np.sqrt(data['gyro_x'] ** 2 + data['gyro_y'] ** 2 + data['gyro_z'] ** 2)\n",
    "    data['User'] = f'{subject}'\n",
    "    print(f'{subject}')\n",
    "    return data"
   ]
  },
  {
   "cell_type": "code",
   "execution_count": 4,
   "metadata": {},
   "outputs": [],
   "source": [
    "# data = pd.read_csv('/Users/momo/Documents/dataset/pamap2+physical+activity+monitoring/Protocol/subject101.dat', sep=' ', header=None)\n",
    "# data.head()"
   ]
  },
  {
   "cell_type": "code",
   "execution_count": 5,
   "metadata": {},
   "outputs": [
    {
     "name": "stdout",
     "output_type": "stream",
     "text": [
      "101\n",
      "102\n"
     ]
    }
   ],
   "source": [
    "# Perform preprocess for different subjects\n",
    "# subjects = ['101', '102', '105', '106', '107', '108']\n",
    "subjects = ['101','102']\n",
    "path = '/Users/momo/Documents/dataset/pamap2+physical+activity+monitoring/Protocol'\n",
    "data_list = []\n",
    "for subject in subjects:\n",
    "    data_list.append(prep_data(path + '/subject' + subject + '.dat', subject))"
   ]
  },
  {
   "cell_type": "code",
   "execution_count": 6,
   "metadata": {},
   "outputs": [
    {
     "data": {
      "text/plain": [
       "(   time_step  activity_id     acc_x    acc_y    acc_z    gyro_x    gyro_y  \\\n",
       " 0       8.38            0  0.238080  9.80003 -1.68896 -0.005065 -0.006781   \n",
       " 1       8.39            0  0.319530  9.61282 -1.49328  0.013685  0.001486   \n",
       " 2       8.40            0  0.235593  9.72421 -1.76621 -0.039923  0.034056   \n",
       " 3       8.41            0  0.388697  9.53572 -1.72410  0.007513 -0.010498   \n",
       " 4       8.42            0  0.315800  9.49908 -1.60914 -0.003822 -0.011217   \n",
       " \n",
       "      gyro_z  acc_norm  gyro_norm User  \n",
       " 0 -0.005663  9.947354   0.010184  101  \n",
       " 1 -0.041522  9.733360   0.043744  101  \n",
       " 2 -0.002113  9.886115   0.052518  101  \n",
       " 3 -0.020684  9.698122   0.024382  101  \n",
       " 4 -0.025975  9.639584   0.028550  101  ,\n",
       "    time_step  activity_id    acc_x    acc_y    acc_z    gyro_x    gyro_y  \\\n",
       " 0       5.64            0  1.94739  9.59644 -3.12873  0.124025  0.112482   \n",
       " 1       5.65            0  1.75120  9.63340 -3.32601  0.132679  0.060829   \n",
       " 2       5.66            0  1.67059  9.70790 -3.48260  0.074772  0.124062   \n",
       " 3       5.67            0  1.66925  9.63234 -3.52110  0.063729  0.136592   \n",
       " 4       5.68            0  1.58969  9.66945 -3.63882  0.008942  0.107000   \n",
       " \n",
       "      gyro_z   acc_norm  gyro_norm User  \n",
       " 0 -0.044947  10.279734   0.173363  102  \n",
       " 1 -0.044168  10.340766   0.152495  102  \n",
       " 2 -0.053608  10.448095   0.154454  102  \n",
       " 3  0.004851  10.390694   0.150806  102  \n",
       " 4  0.003266  10.453056   0.107423  102  )"
      ]
     },
     "execution_count": 6,
     "metadata": {},
     "output_type": "execute_result"
    }
   ],
   "source": [
    "data_list[0].head(),data_list[1].head()"
   ]
  },
  {
   "cell_type": "code",
   "execution_count": 7,
   "metadata": {},
   "outputs": [],
   "source": [
    "# Combine to one df\n",
    "for d in range(len(data_list)):\n",
    "  if d==0:\n",
    "    df = data_list[0]\n",
    "  else:\n",
    "    df = pd.concat([df, data_list[d]], axis=0, ignore_index=True)"
   ]
  },
  {
   "cell_type": "markdown",
   "metadata": {},
   "source": [
    "### 1.2 normalization"
   ]
  },
  {
   "cell_type": "code",
   "execution_count": 8,
   "metadata": {},
   "outputs": [],
   "source": [
    "def normalize(df, cols): #list of columns\n",
    "    df_t=(df[cols]-df[cols].mean())/df[cols].std() #均值为0，方差为1的分布\n",
    "    df_norm = df.copy()\n",
    "    df_norm[cols] = df_t\n",
    "\n",
    "    return df_norm"
   ]
  },
  {
   "cell_type": "code",
   "execution_count": 9,
   "metadata": {},
   "outputs": [],
   "source": [
    "data_norm = normalize(df, ['acc_norm', 'gyro_norm'])"
   ]
  },
  {
   "cell_type": "markdown",
   "metadata": {},
   "source": [
    "### 1.3 augmentation"
   ]
  },
  {
   "cell_type": "code",
   "execution_count": 10,
   "metadata": {},
   "outputs": [],
   "source": [
    "def add_noise(df, cols, sigma=0.1):\n",
    "    noise = np.random.normal(0, sigma, df[cols].shape)\n",
    "    new_signal = df[cols] + noise\n",
    "    df_noise = df.copy()\n",
    "    df_noise[cols] = new_signal\n",
    "\n",
    "    return df_noise\n",
    "\n",
    "def augment(df, cols, num_of_inst):\n",
    "    '''\n",
    "    df should be inserted normalized\n",
    "    num_of_inst = num of instances to create from each instance\n",
    "    '''\n",
    "    aug_df = df.copy()\n",
    "    for i in range(num_of_inst):\n",
    "        np.random.seed(i)\n",
    "        nois_data = add_noise(df, cols)\n",
    "        nois_data['User'] = nois_data['User'] + f'{i}'\n",
    "        aug_df= pd.concat([aug_df, nois_data], axis=0, ignore_index=True)\n",
    "\n",
    "    return aug_df"
   ]
  },
  {
   "cell_type": "code",
   "execution_count": 11,
   "metadata": {},
   "outputs": [],
   "source": [
    "data_aug = augment(data_norm, ['acc_norm', 'gyro_norm'], 1)"
   ]
  },
  {
   "cell_type": "code",
   "execution_count": 12,
   "metadata": {},
   "outputs": [
    {
     "data": {
      "text/html": [
       "<div>\n",
       "<style scoped>\n",
       "    .dataframe tbody tr th:only-of-type {\n",
       "        vertical-align: middle;\n",
       "    }\n",
       "\n",
       "    .dataframe tbody tr th {\n",
       "        vertical-align: top;\n",
       "    }\n",
       "\n",
       "    .dataframe thead th {\n",
       "        text-align: right;\n",
       "    }\n",
       "</style>\n",
       "<table border=\"1\" class=\"dataframe\">\n",
       "  <thead>\n",
       "    <tr style=\"text-align: right;\">\n",
       "      <th></th>\n",
       "      <th>time_step</th>\n",
       "      <th>activity_id</th>\n",
       "      <th>acc_x</th>\n",
       "      <th>acc_y</th>\n",
       "      <th>acc_z</th>\n",
       "      <th>gyro_x</th>\n",
       "      <th>gyro_y</th>\n",
       "      <th>gyro_z</th>\n",
       "      <th>acc_norm</th>\n",
       "      <th>gyro_norm</th>\n",
       "      <th>User</th>\n",
       "    </tr>\n",
       "  </thead>\n",
       "  <tbody>\n",
       "    <tr>\n",
       "      <th>0</th>\n",
       "      <td>8.38</td>\n",
       "      <td>0</td>\n",
       "      <td>0.238080</td>\n",
       "      <td>9.80003</td>\n",
       "      <td>-1.68896</td>\n",
       "      <td>-0.005065</td>\n",
       "      <td>-0.006781</td>\n",
       "      <td>-0.005663</td>\n",
       "      <td>-0.066101</td>\n",
       "      <td>-0.818660</td>\n",
       "      <td>101</td>\n",
       "    </tr>\n",
       "    <tr>\n",
       "      <th>1</th>\n",
       "      <td>8.39</td>\n",
       "      <td>0</td>\n",
       "      <td>0.319530</td>\n",
       "      <td>9.61282</td>\n",
       "      <td>-1.49328</td>\n",
       "      <td>0.013685</td>\n",
       "      <td>0.001486</td>\n",
       "      <td>-0.041522</td>\n",
       "      <td>-0.128133</td>\n",
       "      <td>-0.764882</td>\n",
       "      <td>101</td>\n",
       "    </tr>\n",
       "    <tr>\n",
       "      <th>2</th>\n",
       "      <td>8.40</td>\n",
       "      <td>0</td>\n",
       "      <td>0.235593</td>\n",
       "      <td>9.72421</td>\n",
       "      <td>-1.76621</td>\n",
       "      <td>-0.039923</td>\n",
       "      <td>0.034056</td>\n",
       "      <td>-0.002113</td>\n",
       "      <td>-0.083853</td>\n",
       "      <td>-0.750823</td>\n",
       "      <td>101</td>\n",
       "    </tr>\n",
       "    <tr>\n",
       "      <th>3</th>\n",
       "      <td>8.41</td>\n",
       "      <td>0</td>\n",
       "      <td>0.388697</td>\n",
       "      <td>9.53572</td>\n",
       "      <td>-1.72410</td>\n",
       "      <td>0.007513</td>\n",
       "      <td>-0.010498</td>\n",
       "      <td>-0.020684</td>\n",
       "      <td>-0.138347</td>\n",
       "      <td>-0.795908</td>\n",
       "      <td>101</td>\n",
       "    </tr>\n",
       "    <tr>\n",
       "      <th>4</th>\n",
       "      <td>8.42</td>\n",
       "      <td>0</td>\n",
       "      <td>0.315800</td>\n",
       "      <td>9.49908</td>\n",
       "      <td>-1.60914</td>\n",
       "      <td>-0.003822</td>\n",
       "      <td>-0.011217</td>\n",
       "      <td>-0.025975</td>\n",
       "      <td>-0.155316</td>\n",
       "      <td>-0.789230</td>\n",
       "      <td>101</td>\n",
       "    </tr>\n",
       "  </tbody>\n",
       "</table>\n",
       "</div>"
      ],
      "text/plain": [
       "   time_step  activity_id     acc_x    acc_y    acc_z    gyro_x    gyro_y  \\\n",
       "0       8.38            0  0.238080  9.80003 -1.68896 -0.005065 -0.006781   \n",
       "1       8.39            0  0.319530  9.61282 -1.49328  0.013685  0.001486   \n",
       "2       8.40            0  0.235593  9.72421 -1.76621 -0.039923  0.034056   \n",
       "3       8.41            0  0.388697  9.53572 -1.72410  0.007513 -0.010498   \n",
       "4       8.42            0  0.315800  9.49908 -1.60914 -0.003822 -0.011217   \n",
       "\n",
       "     gyro_z  acc_norm  gyro_norm User  \n",
       "0 -0.005663 -0.066101  -0.818660  101  \n",
       "1 -0.041522 -0.128133  -0.764882  101  \n",
       "2 -0.002113 -0.083853  -0.750823  101  \n",
       "3 -0.020684 -0.138347  -0.795908  101  \n",
       "4 -0.025975 -0.155316  -0.789230  101  "
      ]
     },
     "execution_count": 12,
     "metadata": {},
     "output_type": "execute_result"
    }
   ],
   "source": [
    "data_aug.head()"
   ]
  },
  {
   "cell_type": "markdown",
   "metadata": {},
   "source": [
    "### 1.4 FFT"
   ]
  },
  {
   "cell_type": "code",
   "execution_count": 13,
   "metadata": {},
   "outputs": [
    {
     "data": {
      "text/plain": [
       "array(['101', '1010', '102', '1020'], dtype=object)"
      ]
     },
     "execution_count": 13,
     "metadata": {},
     "output_type": "execute_result"
    }
   ],
   "source": [
    "aaa = data_aug\n",
    "np.unique(aaa['activity_id'])\n",
    "np.unique(aaa['User'])"
   ]
  },
  {
   "cell_type": "code",
   "execution_count": 14,
   "metadata": {},
   "outputs": [
    {
     "name": "stdout",
     "output_type": "stream",
     "text": [
      "(0, 5)\n"
     ]
    },
    {
     "data": {
      "text/html": [
       "<div>\n",
       "<style scoped>\n",
       "    .dataframe tbody tr th:only-of-type {\n",
       "        vertical-align: middle;\n",
       "    }\n",
       "\n",
       "    .dataframe tbody tr th {\n",
       "        vertical-align: top;\n",
       "    }\n",
       "\n",
       "    .dataframe thead th {\n",
       "        text-align: right;\n",
       "    }\n",
       "</style>\n",
       "<table border=\"1\" class=\"dataframe\">\n",
       "  <thead>\n",
       "    <tr style=\"text-align: right;\">\n",
       "      <th></th>\n",
       "      <th>activity</th>\n",
       "      <th>timstep</th>\n",
       "      <th>user</th>\n",
       "      <th>acc_spec</th>\n",
       "      <th>gyro_spec</th>\n",
       "    </tr>\n",
       "  </thead>\n",
       "  <tbody>\n",
       "  </tbody>\n",
       "</table>\n",
       "</div>"
      ],
      "text/plain": [
       "Empty DataFrame\n",
       "Columns: [activity, timstep, user, acc_spec, gyro_spec]\n",
       "Index: []"
      ]
     },
     "execution_count": 14,
     "metadata": {},
     "output_type": "execute_result"
    }
   ],
   "source": [
    "initial_data = data_aug\n",
    "unique_actions = np.unique(initial_data['activity_id'])\n",
    "unique_users = np.unique(initial_data['User'])\n",
    "dff = pd.DataFrame(columns=['activity','timstep', 'user','acc_spec','gyro_spec'])\n",
    "print(dff.shape)\n",
    "dff.head()"
   ]
  },
  {
   "cell_type": "code",
   "execution_count": 15,
   "metadata": {},
   "outputs": [
    {
     "name": "stdout",
     "output_type": "stream",
     "text": [
      "[ 0  1  2  3  4  5  6  7 12 13 16 17 24]\n"
     ]
    }
   ],
   "source": [
    "print(unique_actions)"
   ]
  },
  {
   "cell_type": "code",
   "execution_count": 16,
   "metadata": {},
   "outputs": [
    {
     "name": "stdout",
     "output_type": "stream",
     "text": [
      "action:  1\n",
      "user:  101\n",
      "(27179, 11) 6\n"
     ]
    }
   ],
   "source": [
    "path = '/Users/momo/Desktop'\n",
    "for action in [1]:\n",
    "    print('action: ', action)\n",
    "    for user in ['101']:\n",
    "        print('user: ', user)\n",
    "        act_user_temp = initial_data[(initial_data['activity_id']==action) & (initial_data['User']==user)]\n",
    "        NFFT = 25\n",
    "        noverlap = int(0.25 * NFFT)\n",
    "        print(act_user_temp.shape, noverlap)\n",
    "        fig = plt.figure(frameon=False)\n",
    "        sr = 100\n",
    "        timestep = 0\n",
    "        for row in range(0, act_user_temp.shape[0], 150): # overlap of the data is 50%. not the hyperparameter of FFT.\n",
    "            timestep += 1\n",
    "            spec_acc, freqenciesFound_x, time, imageAxis_x = plt.specgram(act_user_temp['acc_norm'][row:row + 200], Fs=100, NFFT=NFFT, noverlap=noverlap, window=np.hamming(NFFT),cmap='viridis')\n",
    "            spec_gyro, freqenciesFound_x, time, imageAxis_x = plt.specgram(act_user_temp['gyro_norm'][row:row + 200], Fs=100, NFFT=NFFT, noverlap=noverlap, window=np.hamming(NFFT),cmap='viridis')\n",
    "            instance = pd.DataFrame({'activity':action, 'timstep':timestep, 'user':user, 'acc_spec':[spec_acc], 'gyro_spec':[spec_gyro]})\n",
    "            dff = dff.append(instance, ignore_index=True) # label, timestep, user, f*t (spectrogram), f*t (spectrogram)\n",
    "        plt.close(\"all\")"
   ]
  },
  {
   "cell_type": "code",
   "execution_count": null,
   "metadata": {},
   "outputs": [],
   "source": [
    "# dff.to_pickle(path+\"/labeled_data.pkl\")"
   ]
  },
  {
   "cell_type": "code",
   "execution_count": 18,
   "metadata": {},
   "outputs": [],
   "source": [
    "df = pd.read_pickle(path+\"/labeled_data.pkl\")"
   ]
  },
  {
   "cell_type": "markdown",
   "metadata": {},
   "source": [
    "### 1.5 filtering targeted activities and making the labels sequencials"
   ]
  },
  {
   "cell_type": "code",
   "execution_count": 19,
   "metadata": {},
   "outputs": [
    {
     "data": {
      "text/plain": [
       "(0, 5)"
      ]
     },
     "execution_count": 19,
     "metadata": {},
     "output_type": "execute_result"
    }
   ],
   "source": [
    "df = df[df['activity'].isin([1,2,3,4,5,6,7,12,13,16,17])]\n",
    "df['activity'].loc[(df['activity']==12)] = 8\n",
    "df['activity'].loc[(df['activity']==13)] = 9\n",
    "df['activity'].loc[(df['activity']==16)] = 10\n",
    "df['activity'].loc[(df['activity']==17)] = 0\n",
    "df[df['activity'] == 10].shape"
   ]
  },
  {
   "cell_type": "code",
   "execution_count": 29,
   "metadata": {},
   "outputs": [],
   "source": [
    "df0 =  df[df['activity']==0]\n",
    "df0_100 = df0.reset_index().iloc[:1000]\n",
    "\n",
    "df1 =  df[df['activity']==1]\n",
    "df1_100 = df1.reset_index().iloc[:1000]\n",
    "\n",
    "df2 =  df[df['activity']==2]\n",
    "df2_100 = df2.reset_index().iloc[:1000]\n",
    "\n",
    "df3 =  df[df['activity']==3]\n",
    "df3_100 = df3.reset_index().iloc[:1000]\n",
    "\n",
    "df4 =  df[df['activity']==4]\n",
    "df4_100 = df4.reset_index().iloc[:1000]\n",
    "\n",
    "df5 =  df[df['activity']==5]\n",
    "df5_100 = df5.reset_index().iloc[:1000]\n",
    "\n",
    "df6 =  df[df['activity']==6]\n",
    "df6_100 = df6.reset_index().iloc[:1000]\n",
    "\n",
    "df7 =  df[df['activity']==7]\n",
    "df7_100 = df7.reset_index().iloc[:1000]"
   ]
  },
  {
   "cell_type": "code",
   "execution_count": 30,
   "metadata": {},
   "outputs": [],
   "source": [
    "df = pd.concat([df0_100, df1_100, df2_100, df3_100,df4_100,df5_100,df6_100,df7_100])"
   ]
  },
  {
   "cell_type": "code",
   "execution_count": 31,
   "metadata": {},
   "outputs": [],
   "source": [
    "loader_df = pd.DataFrame(columns=['id', 'input_5_timesteps', 'label'])\n",
    "id = 0\n",
    "for user in unique_users:\n",
    "    for action in unique_actions:\n",
    "        ua_df = df[(df['user']==user) & (df['activity']==action)]\n",
    "        for t in range(0, ua_df.shape[0], 5):\n",
    "          vec_acc = ua_df.iloc[t:t+5]['acc_spec'].tolist()\n",
    "          vec_gyro = ua_df.iloc[t:t+5]['gyro_spec'].tolist()\n",
    "          vec_acc_gyro = [vec_acc] + [vec_gyro]\n",
    "          instance = pd.DataFrame({'id': id, 'input_5_timesteps': [vec_acc_gyro], 'label': action})\n",
    "          loader_df = loader_df.append(instance, ignore_index=True)\n",
    "          id += 1"
   ]
  },
  {
   "cell_type": "code",
   "execution_count": 32,
   "metadata": {},
   "outputs": [
    {
     "name": "stdout",
     "output_type": "stream",
     "text": [
      "********* 36\n"
     ]
    },
    {
     "name": "stderr",
     "output_type": "stream",
     "text": [
      "/var/folders/5x/3g67fwns0mb68s__c_3fk4wr0000gn/T/ipykernel_83676/607291761.py:8: UserWarning: Creating a tensor from a list of numpy.ndarrays is extremely slow. Please consider converting the list to a single numpy.ndarray with numpy.array() before converting to a tensor. (Triggered internally at  /Users/distiller/project/conda/conda-bld/pytorch_1639180852547/work/torch/csrc/utils/tensor_new.cpp:201.)\n",
      "  x_tensor = torch.FloatTensor(x[i])\n"
     ]
    }
   ],
   "source": [
    "x = loader_df['input_5_timesteps']\n",
    "id = []\n",
    "label = []\n",
    "tensor_input = []\n",
    "\n",
    "for i in range(len(x)):\n",
    "  try:\n",
    "    x_tensor = torch.FloatTensor(x[i])\n",
    "    # print(x_tensor.shape)\n",
    "    if x_tensor.shape == torch.Size([2, 5, 13, 10]):\n",
    "      tensor_input.append(x_tensor)\n",
    "      label.append(loader_df['label'][i])\n",
    "      id.append(loader_df['id'][i])\n",
    "\n",
    "  except:\n",
    "    print('*********',i)"
   ]
  },
  {
   "cell_type": "code",
   "execution_count": 33,
   "metadata": {},
   "outputs": [
    {
     "data": {
      "image/png": "[encoded data removed]",
      "text/plain": [
       "<Figure size 432x288 with 1 Axes>"
      ]
     },
     "metadata": {
      "needs_background": "light"
     },
     "output_type": "display_data"
    }
   ],
   "source": [
    "plt.hist(label, bins=8);"
   ]
  },
  {
   "cell_type": "code",
   "execution_count": 34,
   "metadata": {},
   "outputs": [
    {
     "data": {
      "text/plain": [
       "(36, 36, 36)"
      ]
     },
     "execution_count": 34,
     "metadata": {},
     "output_type": "execute_result"
    }
   ],
   "source": [
    "len(id), len(label), len(tensor_input)"
   ]
  },
  {
   "cell_type": "code",
   "execution_count": 35,
   "metadata": {},
   "outputs": [
    {
     "data": {
      "text/plain": [
       "(array([1]), array([36]))"
      ]
     },
     "execution_count": 35,
     "metadata": {},
     "output_type": "execute_result"
    }
   ],
   "source": [
    "np.unique(label, return_counts=True)"
   ]
  },
  {
   "cell_type": "markdown",
   "metadata": {},
   "source": [
    "### Dataloader"
   ]
  },
  {
   "cell_type": "code",
   "execution_count": 36,
   "metadata": {},
   "outputs": [],
   "source": [
    "id = torch.tensor(id)\n",
    "label = torch.tensor(label)\n",
    "tensor_input = torch.stack(tensor_input)"
   ]
  },
  {
   "cell_type": "code",
   "execution_count": 39,
   "metadata": {},
   "outputs": [
    {
     "name": "stdout",
     "output_type": "stream",
     "text": [
      "28 training samples\n",
      "8 validation samples\n"
     ]
    }
   ],
   "source": [
    "dataset = TensorDataset(id, tensor_input, label)\n",
    "train_size = int(0.80 * len(dataset))\n",
    "val_size = len(dataset) - train_size\n",
    "train_dataset, val_dataset = random_split(dataset, [train_size, val_size])\n",
    "\n",
    "print(f'{train_size} training samples')\n",
    "print(f'{val_size} validation samples')"
   ]
  },
  {
   "cell_type": "code",
   "execution_count": 40,
   "metadata": {},
   "outputs": [],
   "source": [
    "torch.manual_seed(0)\n",
    "batch_size = 1\n",
    "train_dataloader = DataLoader(\n",
    "            train_dataset,  \n",
    "            sampler = RandomSampler(train_dataset), \n",
    "            batch_size = batch_size\n",
    "            )\n",
    "validation_dataloader = DataLoader(\n",
    "            val_dataset, \n",
    "            sampler = SequentialSampler(val_dataset),\n",
    "            batch_size = batch_size\n",
    "            )"
   ]
  },
  {
   "cell_type": "markdown",
   "metadata": {},
   "source": [
    "## Network"
   ]
  },
  {
   "cell_type": "code",
   "execution_count": 41,
   "metadata": {},
   "outputs": [
    {
     "data": {
      "text/plain": [
       "torch.Size([13, 10])"
      ]
     },
     "execution_count": 41,
     "metadata": {},
     "output_type": "execute_result"
    },
    {
     "data": {
      "image/png": "[encoded data removed]",
      "text/plain": [
       "<Figure size 432x288 with 1 Axes>"
      ]
     },
     "metadata": {
      "needs_background": "light"
     },
     "output_type": "display_data"
    }
   ],
   "source": [
    "instance = next(iter(train_dataloader))\n",
    "acc_inst = instance[1][0][0][0]\n",
    "gyro_inst = instance[1][0][1][0]\n",
    "plt.imshow(gyro_inst);\n",
    "acc_inst.shape"
   ]
  },
  {
   "cell_type": "code",
   "execution_count": 42,
   "metadata": {},
   "outputs": [
    {
     "data": {
      "image/png": "[encoded data removed]",
      "text/plain": [
       "<Figure size 1080x360 with 10 Axes>"
      ]
     },
     "metadata": {
      "needs_background": "light"
     },
     "output_type": "display_data"
    }
   ],
   "source": [
    "fig, axes = plt.subplots(2, 5, sharex=True, sharey=False, figsize=(15,5))\n",
    "instance = next(iter(train_dataloader))\n",
    "for i in range(5):\n",
    "    axes[0,i].imshow(instance[1][0][0][i])\n",
    "    axes[0,i].set_title(f'acc timestep {i+1}')\n",
    "for i in range(5):\n",
    "    axes[1,i].imshow(instance[1][0][1][i])\n",
    "    axes[1,i].set_title(f'gyro timestep {i+1}')"
   ]
  },
  {
   "cell_type": "code",
   "execution_count": 43,
   "metadata": {},
   "outputs": [],
   "source": [
    "torch.manual_seed(0)\n",
    "class CNN_acc(nn.Module):\n",
    "  def __init__(self):\n",
    "    super(CNN_acc, self).__init__()\n",
    "    self.conv1 = nn.Conv2d(1, 32, (1,3), padding='same')\n",
    "    self.conv2 = nn.Conv2d(32, 32, (1,3), padding='same')\n",
    "    self.conv3 = nn.Conv2d(32, 64, (1,3), padding='same')\n",
    "    self.conv4 = nn.Conv2d(64, 64, (1,3), padding='same')\n",
    "    self.fc = nn.Linear(2048, 128)\n",
    "    torch.nn.init.xavier_normal(self.fc.weight)\n",
    "    torch.nn.init.xavier_normal(self.conv1.weight)\n",
    "    torch.nn.init.xavier_normal(self.conv2.weight)\n",
    "    torch.nn.init.xavier_normal(self.conv3.weight)\n",
    "    torch.nn.init.xavier_normal(self.conv4.weight)\n",
    "\n",
    "\n",
    "  def forward(self, x):\n",
    "    # print('x.shape 1: ', x.shape)\n",
    "    x = F.relu(self.conv1(x))\n",
    "    # print('x.shape 2: ', x.shape)\n",
    "    x = F.relu(F.max_pool2d(self.conv2(x), (1,2)))\n",
    "    # print('x.shape 3: ', x.shape)\n",
    "    x = F.relu(self.conv3(x))\n",
    "    # print('x.shape 4: ', x.shape)\n",
    "    x = F.relu(F.max_pool2d(self.conv4(x), (1,2)))\n",
    "    # print('x.shape 5: ', x.shape)\n",
    "    x = torch.flatten(x, start_dim=1)\n",
    "    # print('x.shape 6: ', x.shape)\n",
    "    x = self.fc(x)\n",
    "    # print('x.shape 7: ', x.shape)\n",
    "\n",
    "    return x"
   ]
  },
  {
   "cell_type": "code",
   "execution_count": 44,
   "metadata": {},
   "outputs": [],
   "source": [
    "torch.manual_seed(0)\n",
    "class CNN_gyro(nn.Module):\n",
    "  def __init__(self):\n",
    "    super(CNN_gyro, self).__init__()\n",
    "    self.conv1 = nn.Conv2d(1, 32, (1,3), padding='same')\n",
    "    self.conv2 = nn.Conv2d(32, 32, (1,3), padding='same')\n",
    "    self.conv3 = nn.Conv2d(32, 64, (1,3), padding='same')\n",
    "    self.conv4 = nn.Conv2d(64, 64, (1,3), padding='same')\n",
    "    self.fc = nn.Linear(2048, 128)\n",
    "    torch.nn.init.xavier_normal(self.fc.weight)\n",
    "    torch.nn.init.xavier_normal(self.conv1.weight)\n",
    "    torch.nn.init.xavier_normal(self.conv2.weight)\n",
    "    torch.nn.init.xavier_normal(self.conv3.weight)\n",
    "    torch.nn.init.xavier_normal(self.conv4.weight)\n",
    "\n",
    "  def forward(self, x):\n",
    "    # print('x.shape 1: ', x.shape)\n",
    "    x = F.relu(self.conv1(x))\n",
    "    # print('x.shape 2: ', x.shape)\n",
    "    x = F.relu(F.max_pool2d(self.conv2(x), (1,2)))\n",
    "    # print('x.shape 3: ', x.shape)\n",
    "    x = F.relu(self.conv3(x))\n",
    "    # print('x.shape 4: ', x.shape)\n",
    "    x = F.relu(F.max_pool2d(self.conv4(x), (1,2)))\n",
    "    # print('x.shape 5: ', x.shape)\n",
    "    x = torch.flatten(x, start_dim=1)\n",
    "    # print('x.shape 6: ', x.shape)\n",
    "    x = self.fc(x)\n",
    "\n",
    "    return x"
   ]
  },
  {
   "cell_type": "code",
   "execution_count": 45,
   "metadata": {},
   "outputs": [],
   "source": [
    "class Attention2(nn.Module):\n",
    "  def __init__(self):\n",
    "    super(Attention2, self).__init__()\n",
    "    self.w = torch.rand(5, 1)\n",
    "    self.w = torch.nn.Parameter(torch.nn.init.xavier_uniform_(self.w))\n",
    "    self.b = torch.zeros(1)\n",
    "    self.b = torch.nn.Parameter(self.b)\n",
    "    self.v = torch.rand(64, 1)\n",
    "    self.v = torch.nn.Parameter(torch.nn.init.xavier_uniform_(self.v))\n",
    "    self.new_linear = torch.nn.Linear(64, 64)\n",
    "\n",
    "  def forward(self, x):\n",
    "    # print('x.shape: ', x.shape)\n",
    "    temp_o = self.new_linear(torch.squeeze(x, 1))\n",
    "    # print('temp_o.shape: ', temp_o.shape)\n",
    "    o = torch.tanh(temp_o)\n",
    "    # print('temp_o.shape: ', temp_o.shape)\n",
    "    temp_w = o @ self.v\n",
    "    # print('temp_w.shape: ', temp_w.shape)\n",
    "    w = F.softmax(temp_w)\n",
    "    # print('w.shape: ', w.shape)\n",
    "    context = w.T @ temp_o\n",
    "    # print('context.shape: ',context.shape)\n",
    "    \n",
    "    return context"
   ]
  },
  {
   "cell_type": "code",
   "execution_count": 46,
   "metadata": {},
   "outputs": [],
   "source": [
    "class Attnsense(nn.Module):\n",
    "  def __init__(self):\n",
    "    super(Attnsense, self).__init__()\n",
    "    self.conv_acc = CNN_acc()\n",
    "    self.conv_gyro = CNN_gyro()\n",
    "    self.attn1 = torch.nn.MultiheadAttention(128, 1, batch_first=True)\n",
    "    self.attn2 = Attention2()\n",
    "    self.gru = nn.GRU(128, 64, num_layers=2)\n",
    "    self.fc_gru = nn.Linear(64, 8)\n",
    "\n",
    "\n",
    "  def forward(self, x):\n",
    "    # print(x[0][0].shape)\n",
    "    acc_input = x[0][0].reshape(5,1,1,130)\n",
    "    gyro_input = x[0][1].reshape(5,1,1,130)\n",
    "    conv_acc_out = self.conv_acc.forward(acc_input)\n",
    "    conv_gyro_out = self.conv_gyro.forward(gyro_input)\n",
    "    # print('conv_acc_out: ', conv_acc_out.shape)\n",
    "    zipped = torch.stack([conv_acc_out, conv_gyro_out], dim=1)\n",
    "    # print('zipped.shape: ', zipped.shape)\n",
    "    attn1_out = self.attn1(zipped, zipped, zipped)[0][:,0,:]\n",
    "    # print('attn1_out.shape: ', attn1_out.shape)\n",
    "    out_gru = self.gru(attn1_out.unsqueeze(1))[0]\n",
    "    # print('out_gru: ', out_gru.shape)\n",
    "    out_attn2 = self.attn2(out_gru)\n",
    "    # print('out_attn2: ', out_attn2.shape)\n",
    "    x = self.fc_gru(out_attn2)\n",
    "    # # print('x.shape: ', x.shape)\n",
    "    x = F.softmax(x, dim=1)\n",
    "\n",
    "    return x"
   ]
  },
  {
   "cell_type": "code",
   "execution_count": 47,
   "metadata": {},
   "outputs": [],
   "source": [
    "device = torch.device(\"cuda:0\" if torch.cuda.is_available() else \"cpu\")"
   ]
  },
  {
   "cell_type": "code",
   "execution_count": 48,
   "metadata": {},
   "outputs": [],
   "source": [
    "def loss_calc(net, loader, criterion):\n",
    "  with torch.no_grad():\n",
    "    tot_loss = 0\n",
    "    for i, data in enumerate(loader, 0):\n",
    "      _, inputs, labels = data\n",
    "      inputs = inputs.to(device)\n",
    "      labels = labels.to(device)\n",
    "      outputs = net(inputs)\n",
    "      loss = criterion(outputs, labels)\n",
    "      tot_loss += loss.item()\n",
    "      \n",
    "  return tot_loss / (i + 1)"
   ]
  },
  {
   "cell_type": "code",
   "execution_count": 49,
   "metadata": {},
   "outputs": [],
   "source": [
    "def save_vectors(vectors, name):\n",
    "    a_file = open(f'{name}.pkl', 'wb')\n",
    "    pickle.dump(vectors, a_file)\n",
    "    a_file.close()"
   ]
  },
  {
   "cell_type": "code",
   "execution_count": 52,
   "metadata": {},
   "outputs": [],
   "source": [
    "torch.manual_seed(0)\n",
    "\n",
    "def train(net, train_loader, test_loader, epochs):\n",
    "    lowest_loss = 0\n",
    "    criterion = nn.CrossEntropyLoss()\n",
    "    optimizer = torch.optim.SGD(net.parameters(), lr = 0.0001, momentum=0.9) # best learning rate was 0.00005\n",
    "    start_time = timeit.default_timer()\n",
    "    train_loss = {}\n",
    "    test_loss = {}\n",
    "    for epoch in range(epochs):\n",
    "        running_loss = 0.0\n",
    "        print(epoch)\n",
    "        for i, data in enumerate(train_loader, 0):\n",
    "            _, inputs, labels = data\n",
    "            inputs = inputs.to(device)\n",
    "            labels = labels.to(device) \n",
    "\n",
    "            # zero the parameter gradients\n",
    "            optimizer.zero_grad()\n",
    "\n",
    "            # forward + backward + optimize\n",
    "            outputs = net(inputs)\n",
    "            \n",
    "            loss = criterion(outputs, labels)\n",
    "            loss.backward()\n",
    "            optimizer.step()\n",
    "\n",
    "            # print statistics\n",
    "            running_loss += loss.item()\n",
    "            if (i + 1) % 100 == 0:    \n",
    "                print('[%d, %5d] loss: %.3f' %\n",
    "                      (epoch + 1, i + 1, running_loss / 100))\n",
    "                running_loss = 0.0\n",
    "        train_loss[epoch + 1] = loss_calc(net, train_loader, criterion)\n",
    "\n",
    "        test_loss[epoch + 1] = loss_calc(net, test_loader, criterion) \n",
    "        print(f'Epoch = {epoch + 1}, train loss = {train_loss[epoch + 1]}')\n",
    "        print(f'Epoch = {epoch + 1}, test loss = {test_loss[epoch + 1]}')\n",
    "        if test_loss[epoch + 1] < 1.7 and lowest_loss == 0:\n",
    "          lowest_loss = test_loss[epoch + 1]\n",
    "          torch.save(net.state_dict(), path+'/model_with_attentions10')\n",
    "          save_vectors(train_loss, path+'/train_loss_attention10')\n",
    "          save_vectors(test_loss, path+'/test_loss_attention10')\n",
    "        if test_loss[epoch + 1] < lowest_loss:\n",
    "          lowest_loss = test_loss[epoch + 1]\n",
    "          torch.save(net.state_dict(), path+'/model_with_attentions10')\n",
    "          save_vectors(train_loss, path+'/train_loss_attention10')\n",
    "          save_vectors(test_loss, path+'/test_loss_attention10')\n",
    "    end_time = timeit.default_timer()\n",
    "\n",
    "    print(f'Finish Training + Testing after: {end_time - start_time}')\n",
    "    return train_loss, test_loss"
   ]
  },
  {
   "cell_type": "code",
   "execution_count": 53,
   "metadata": {},
   "outputs": [
    {
     "name": "stderr",
     "output_type": "stream",
     "text": [
      "/var/folders/5x/3g67fwns0mb68s__c_3fk4wr0000gn/T/ipykernel_83676/2345605162.py:10: UserWarning: nn.init.xavier_normal is now deprecated in favor of nn.init.xavier_normal_.\n",
      "  torch.nn.init.xavier_normal(self.fc.weight)\n",
      "/var/folders/5x/3g67fwns0mb68s__c_3fk4wr0000gn/T/ipykernel_83676/2345605162.py:11: UserWarning: nn.init.xavier_normal is now deprecated in favor of nn.init.xavier_normal_.\n",
      "  torch.nn.init.xavier_normal(self.conv1.weight)\n",
      "/var/folders/5x/3g67fwns0mb68s__c_3fk4wr0000gn/T/ipykernel_83676/2345605162.py:12: UserWarning: nn.init.xavier_normal is now deprecated in favor of nn.init.xavier_normal_.\n",
      "  torch.nn.init.xavier_normal(self.conv2.weight)\n",
      "/var/folders/5x/3g67fwns0mb68s__c_3fk4wr0000gn/T/ipykernel_83676/2345605162.py:13: UserWarning: nn.init.xavier_normal is now deprecated in favor of nn.init.xavier_normal_.\n",
      "  torch.nn.init.xavier_normal(self.conv3.weight)\n",
      "/var/folders/5x/3g67fwns0mb68s__c_3fk4wr0000gn/T/ipykernel_83676/2345605162.py:14: UserWarning: nn.init.xavier_normal is now deprecated in favor of nn.init.xavier_normal_.\n",
      "  torch.nn.init.xavier_normal(self.conv4.weight)\n"
     ]
    }
   ],
   "source": [
    "net = Attnsense().to(device)"
   ]
  },
  {
   "cell_type": "code",
   "execution_count": 54,
   "metadata": {},
   "outputs": [
    {
     "name": "stdout",
     "output_type": "stream",
     "text": [
      "0\n"
     ]
    },
    {
     "name": "stderr",
     "output_type": "stream",
     "text": [
      "/var/folders/5x/3g67fwns0mb68s__c_3fk4wr0000gn/T/ipykernel_83676/1871628809.py:20: UserWarning: Implicit dimension choice for softmax has been deprecated. Change the call to include dim=X as an argument.\n",
      "  w = F.softmax(temp_w)\n"
     ]
    },
    {
     "name": "stdout",
     "output_type": "stream",
     "text": [
      "Epoch = 1, train loss = 2.10515981061118\n",
      "Epoch = 1, test loss = 2.1051613986492157\n",
      "1\n",
      "Epoch = 2, train loss = 2.096319760595049\n",
      "Epoch = 2, test loss = 2.096321403980255\n",
      "2\n",
      "Epoch = 3, train loss = 2.0859190225601196\n",
      "Epoch = 3, test loss = 2.0859207808971405\n",
      "3\n",
      "Epoch = 4, train loss = 2.0737067631312778\n",
      "Epoch = 4, test loss = 2.0737085044384003\n",
      "4\n",
      "Epoch = 5, train loss = 2.059223634856088\n",
      "Epoch = 5, test loss = 2.0592255294322968\n",
      "5\n",
      "Epoch = 6, train loss = 2.0418530702590942\n",
      "Epoch = 6, test loss = 2.0418550074100494\n",
      "6\n",
      "Epoch = 7, train loss = 2.0207707371030534\n",
      "Epoch = 7, test loss = 2.020772874355316\n",
      "7\n",
      "Epoch = 8, train loss = 1.994878615651812\n",
      "Epoch = 8, test loss = 1.994880810379982\n",
      "8\n",
      "Epoch = 9, train loss = 1.9627410641738348\n",
      "Epoch = 9, test loss = 1.9627432972192764\n",
      "9\n",
      "Epoch = 10, train loss = 1.9225727702890123\n",
      "Epoch = 10, test loss = 1.9225750416517258\n",
      "Finish Training + Testing after: 5.21711966700002\n"
     ]
    }
   ],
   "source": [
    "train_loss, test_loss = train(net, train_dataloader, validation_dataloader, 10)"
   ]
  },
  {
   "cell_type": "code",
   "execution_count": 55,
   "metadata": {},
   "outputs": [
    {
     "name": "stdout",
     "output_type": "stream",
     "text": [
      "<bound method Attnsense.forward of Attnsense(\n",
      "  (conv_acc): CNN_acc(\n",
      "    (conv1): Conv2d(1, 32, kernel_size=(1, 3), stride=(1, 1), padding=same)\n",
      "    (conv2): Conv2d(32, 32, kernel_size=(1, 3), stride=(1, 1), padding=same)\n",
      "    (conv3): Conv2d(32, 64, kernel_size=(1, 3), stride=(1, 1), padding=same)\n",
      "    (conv4): Conv2d(64, 64, kernel_size=(1, 3), stride=(1, 1), padding=same)\n",
      "    (fc): Linear(in_features=2048, out_features=128, bias=True)\n",
      "  )\n",
      "  (conv_gyro): CNN_gyro(\n",
      "    (conv1): Conv2d(1, 32, kernel_size=(1, 3), stride=(1, 1), padding=same)\n",
      "    (conv2): Conv2d(32, 32, kernel_size=(1, 3), stride=(1, 1), padding=same)\n",
      "    (conv3): Conv2d(32, 64, kernel_size=(1, 3), stride=(1, 1), padding=same)\n",
      "    (conv4): Conv2d(64, 64, kernel_size=(1, 3), stride=(1, 1), padding=same)\n",
      "    (fc): Linear(in_features=2048, out_features=128, bias=True)\n",
      "  )\n",
      "  (attn1): MultiheadAttention(\n",
      "    (out_proj): NonDynamicallyQuantizableLinear(in_features=128, out_features=128, bias=True)\n",
      "  )\n",
      "  (attn2): Attention2(\n",
      "    (new_linear): Linear(in_features=64, out_features=64, bias=True)\n",
      "  )\n",
      "  (gru): GRU(128, 64, num_layers=2)\n",
      "  (fc_gru): Linear(in_features=64, out_features=8, bias=True)\n",
      ")>\n"
     ]
    },
    {
     "name": "stderr",
     "output_type": "stream",
     "text": [
      "/var/folders/5x/3g67fwns0mb68s__c_3fk4wr0000gn/T/ipykernel_83676/2345605162.py:10: UserWarning: nn.init.xavier_normal is now deprecated in favor of nn.init.xavier_normal_.\n",
      "  torch.nn.init.xavier_normal(self.fc.weight)\n",
      "/var/folders/5x/3g67fwns0mb68s__c_3fk4wr0000gn/T/ipykernel_83676/2345605162.py:11: UserWarning: nn.init.xavier_normal is now deprecated in favor of nn.init.xavier_normal_.\n",
      "  torch.nn.init.xavier_normal(self.conv1.weight)\n",
      "/var/folders/5x/3g67fwns0mb68s__c_3fk4wr0000gn/T/ipykernel_83676/2345605162.py:12: UserWarning: nn.init.xavier_normal is now deprecated in favor of nn.init.xavier_normal_.\n",
      "  torch.nn.init.xavier_normal(self.conv2.weight)\n",
      "/var/folders/5x/3g67fwns0mb68s__c_3fk4wr0000gn/T/ipykernel_83676/2345605162.py:13: UserWarning: nn.init.xavier_normal is now deprecated in favor of nn.init.xavier_normal_.\n",
      "  torch.nn.init.xavier_normal(self.conv3.weight)\n",
      "/var/folders/5x/3g67fwns0mb68s__c_3fk4wr0000gn/T/ipykernel_83676/2345605162.py:14: UserWarning: nn.init.xavier_normal is now deprecated in favor of nn.init.xavier_normal_.\n",
      "  torch.nn.init.xavier_normal(self.conv4.weight)\n"
     ]
    }
   ],
   "source": [
    "net = Attnsense()\n",
    "print(net.forward)"
   ]
  },
  {
   "cell_type": "markdown",
   "metadata": {},
   "source": [
    "### Evaluation"
   ]
  },
  {
   "cell_type": "code",
   "execution_count": 56,
   "metadata": {},
   "outputs": [],
   "source": [
    "def load_vectors(path):\n",
    "    t = open(path, 'rb')\n",
    "    output = pickle.load(t)\n",
    "    t.close()\n",
    "    \n",
    "    return output"
   ]
  },
  {
   "cell_type": "code",
   "execution_count": 57,
   "metadata": {},
   "outputs": [
    {
     "data": {
      "text/plain": [
       "1.9225750416517258"
      ]
     },
     "execution_count": 57,
     "metadata": {},
     "output_type": "execute_result"
    }
   ],
   "source": [
    "min(test_loss.values())"
   ]
  },
  {
   "cell_type": "code",
   "execution_count": 58,
   "metadata": {},
   "outputs": [],
   "source": [
    "def mean_k(dict_values, k):\n",
    "    val = np.array(list(dict_values))\n",
    "    out = []\n",
    "    for i in range(val.shape[0] - k):\n",
    "      out.append(val[i:i+k].mean())\n",
    "    return out"
   ]
  },
  {
   "cell_type": "code",
   "execution_count": 59,
   "metadata": {},
   "outputs": [
    {
     "data": {
      "text/plain": [
       "<matplotlib.legend.Legend at 0x7f9abad81cd0>"
      ]
     },
     "execution_count": 59,
     "metadata": {},
     "output_type": "execute_result"
    },
    {
     "data": {
      "image/png": "[encoded data removed]",
      "text/plain": [
       "<Figure size 576x576 with 1 Axes>"
      ]
     },
     "metadata": {
      "needs_background": "light"
     },
     "output_type": "display_data"
    }
   ],
   "source": [
    "plt.figure(figsize = (8, 8))\n",
    "plt.plot(list(train_loss.keys()), list(train_loss.values()), label = 'train')\n",
    "plt.plot(list(test_loss.keys()), list(test_loss.values()), label = 'test')\n",
    "plt.plot(mean_k(train_loss.values(), 20), label = 'mean 20', linewidth=3, linestyle='--')\n",
    "plt.xlabel('Epoch Number', fontsize = 20)\n",
    "plt.ylabel('Loss', fontsize = 20)\n",
    "plt.legend(fontsize = 20)"
   ]
  },
  {
   "cell_type": "code",
   "execution_count": 61,
   "metadata": {},
   "outputs": [
    {
     "name": "stderr",
     "output_type": "stream",
     "text": [
      "/var/folders/5x/3g67fwns0mb68s__c_3fk4wr0000gn/T/ipykernel_83676/2345605162.py:10: UserWarning: nn.init.xavier_normal is now deprecated in favor of nn.init.xavier_normal_.\n",
      "  torch.nn.init.xavier_normal(self.fc.weight)\n",
      "/var/folders/5x/3g67fwns0mb68s__c_3fk4wr0000gn/T/ipykernel_83676/2345605162.py:11: UserWarning: nn.init.xavier_normal is now deprecated in favor of nn.init.xavier_normal_.\n",
      "  torch.nn.init.xavier_normal(self.conv1.weight)\n",
      "/var/folders/5x/3g67fwns0mb68s__c_3fk4wr0000gn/T/ipykernel_83676/2345605162.py:12: UserWarning: nn.init.xavier_normal is now deprecated in favor of nn.init.xavier_normal_.\n",
      "  torch.nn.init.xavier_normal(self.conv2.weight)\n",
      "/var/folders/5x/3g67fwns0mb68s__c_3fk4wr0000gn/T/ipykernel_83676/2345605162.py:13: UserWarning: nn.init.xavier_normal is now deprecated in favor of nn.init.xavier_normal_.\n",
      "  torch.nn.init.xavier_normal(self.conv3.weight)\n",
      "/var/folders/5x/3g67fwns0mb68s__c_3fk4wr0000gn/T/ipykernel_83676/2345605162.py:14: UserWarning: nn.init.xavier_normal is now deprecated in favor of nn.init.xavier_normal_.\n",
      "  torch.nn.init.xavier_normal(self.conv4.weight)\n"
     ]
    },
    {
     "ename": "FileNotFoundError",
     "evalue": "[Errno 2] No such file or directory: '/Users/momo/Desktop/model_with_attentions10'",
     "output_type": "error",
     "traceback": [
      "\u001b[0;31m---------------------------------------------------------------------------\u001b[0m",
      "\u001b[0;31mFileNotFoundError\u001b[0m                         Traceback (most recent call last)",
      "\u001b[0;32m/var/folders/5x/3g67fwns0mb68s__c_3fk4wr0000gn/T/ipykernel_83676/1618422571.py\u001b[0m in \u001b[0;36m<module>\u001b[0;34m\u001b[0m\n\u001b[1;32m      1\u001b[0m \u001b[0mmodel\u001b[0m \u001b[0;34m=\u001b[0m \u001b[0mAttnsense\u001b[0m\u001b[0;34m(\u001b[0m\u001b[0;34m)\u001b[0m\u001b[0;34m\u001b[0m\u001b[0;34m\u001b[0m\u001b[0m\n\u001b[0;32m----> 2\u001b[0;31m \u001b[0mmodel\u001b[0m\u001b[0;34m.\u001b[0m\u001b[0mload_state_dict\u001b[0m\u001b[0;34m(\u001b[0m\u001b[0mtorch\u001b[0m\u001b[0;34m.\u001b[0m\u001b[0mload\u001b[0m\u001b[0;34m(\u001b[0m\u001b[0mpath\u001b[0m\u001b[0;34m+\u001b[0m\u001b[0;34m'/model_with_attentions10'\u001b[0m\u001b[0;34m)\u001b[0m\u001b[0;34m)\u001b[0m\u001b[0;34m\u001b[0m\u001b[0;34m\u001b[0m\u001b[0m\n\u001b[0m",
      "\u001b[0;32m~/opt/anaconda3/envs/study/lib/python3.9/site-packages/torch/serialization.py\u001b[0m in \u001b[0;36mload\u001b[0;34m(f, map_location, pickle_module, **pickle_load_args)\u001b[0m\n\u001b[1;32m    592\u001b[0m         \u001b[0mpickle_load_args\u001b[0m\u001b[0;34m[\u001b[0m\u001b[0;34m'encoding'\u001b[0m\u001b[0;34m]\u001b[0m \u001b[0;34m=\u001b[0m \u001b[0;34m'utf-8'\u001b[0m\u001b[0;34m\u001b[0m\u001b[0;34m\u001b[0m\u001b[0m\n\u001b[1;32m    593\u001b[0m \u001b[0;34m\u001b[0m\u001b[0m\n\u001b[0;32m--> 594\u001b[0;31m     \u001b[0;32mwith\u001b[0m \u001b[0m_open_file_like\u001b[0m\u001b[0;34m(\u001b[0m\u001b[0mf\u001b[0m\u001b[0;34m,\u001b[0m \u001b[0;34m'rb'\u001b[0m\u001b[0;34m)\u001b[0m \u001b[0;32mas\u001b[0m \u001b[0mopened_file\u001b[0m\u001b[0;34m:\u001b[0m\u001b[0;34m\u001b[0m\u001b[0;34m\u001b[0m\u001b[0m\n\u001b[0m\u001b[1;32m    595\u001b[0m         \u001b[0;32mif\u001b[0m \u001b[0m_is_zipfile\u001b[0m\u001b[0;34m(\u001b[0m\u001b[0mopened_file\u001b[0m\u001b[0;34m)\u001b[0m\u001b[0;34m:\u001b[0m\u001b[0;34m\u001b[0m\u001b[0;34m\u001b[0m\u001b[0m\n\u001b[1;32m    596\u001b[0m             \u001b[0;31m# The zipfile reader is going to advance the current file position.\u001b[0m\u001b[0;34m\u001b[0m\u001b[0;34m\u001b[0m\u001b[0m\n",
      "\u001b[0;32m~/opt/anaconda3/envs/study/lib/python3.9/site-packages/torch/serialization.py\u001b[0m in \u001b[0;36m_open_file_like\u001b[0;34m(name_or_buffer, mode)\u001b[0m\n\u001b[1;32m    228\u001b[0m \u001b[0;32mdef\u001b[0m \u001b[0m_open_file_like\u001b[0m\u001b[0;34m(\u001b[0m\u001b[0mname_or_buffer\u001b[0m\u001b[0;34m,\u001b[0m \u001b[0mmode\u001b[0m\u001b[0;34m)\u001b[0m\u001b[0;34m:\u001b[0m\u001b[0;34m\u001b[0m\u001b[0;34m\u001b[0m\u001b[0m\n\u001b[1;32m    229\u001b[0m     \u001b[0;32mif\u001b[0m \u001b[0m_is_path\u001b[0m\u001b[0;34m(\u001b[0m\u001b[0mname_or_buffer\u001b[0m\u001b[0;34m)\u001b[0m\u001b[0;34m:\u001b[0m\u001b[0;34m\u001b[0m\u001b[0;34m\u001b[0m\u001b[0m\n\u001b[0;32m--> 230\u001b[0;31m         \u001b[0;32mreturn\u001b[0m \u001b[0m_open_file\u001b[0m\u001b[0;34m(\u001b[0m\u001b[0mname_or_buffer\u001b[0m\u001b[0;34m,\u001b[0m \u001b[0mmode\u001b[0m\u001b[0;34m)\u001b[0m\u001b[0;34m\u001b[0m\u001b[0;34m\u001b[0m\u001b[0m\n\u001b[0m\u001b[1;32m    231\u001b[0m     \u001b[0;32melse\u001b[0m\u001b[0;34m:\u001b[0m\u001b[0;34m\u001b[0m\u001b[0;34m\u001b[0m\u001b[0m\n\u001b[1;32m    232\u001b[0m         \u001b[0;32mif\u001b[0m \u001b[0;34m'w'\u001b[0m \u001b[0;32min\u001b[0m \u001b[0mmode\u001b[0m\u001b[0;34m:\u001b[0m\u001b[0;34m\u001b[0m\u001b[0;34m\u001b[0m\u001b[0m\n",
      "\u001b[0;32m~/opt/anaconda3/envs/study/lib/python3.9/site-packages/torch/serialization.py\u001b[0m in \u001b[0;36m__init__\u001b[0;34m(self, name, mode)\u001b[0m\n\u001b[1;32m    209\u001b[0m \u001b[0;32mclass\u001b[0m \u001b[0m_open_file\u001b[0m\u001b[0;34m(\u001b[0m\u001b[0m_opener\u001b[0m\u001b[0;34m)\u001b[0m\u001b[0;34m:\u001b[0m\u001b[0;34m\u001b[0m\u001b[0;34m\u001b[0m\u001b[0m\n\u001b[1;32m    210\u001b[0m     \u001b[0;32mdef\u001b[0m \u001b[0m__init__\u001b[0m\u001b[0;34m(\u001b[0m\u001b[0mself\u001b[0m\u001b[0;34m,\u001b[0m \u001b[0mname\u001b[0m\u001b[0;34m,\u001b[0m \u001b[0mmode\u001b[0m\u001b[0;34m)\u001b[0m\u001b[0;34m:\u001b[0m\u001b[0;34m\u001b[0m\u001b[0;34m\u001b[0m\u001b[0m\n\u001b[0;32m--> 211\u001b[0;31m         \u001b[0msuper\u001b[0m\u001b[0;34m(\u001b[0m\u001b[0m_open_file\u001b[0m\u001b[0;34m,\u001b[0m \u001b[0mself\u001b[0m\u001b[0;34m)\u001b[0m\u001b[0;34m.\u001b[0m\u001b[0m__init__\u001b[0m\u001b[0;34m(\u001b[0m\u001b[0mopen\u001b[0m\u001b[0;34m(\u001b[0m\u001b[0mname\u001b[0m\u001b[0;34m,\u001b[0m \u001b[0mmode\u001b[0m\u001b[0;34m)\u001b[0m\u001b[0;34m)\u001b[0m\u001b[0;34m\u001b[0m\u001b[0;34m\u001b[0m\u001b[0m\n\u001b[0m\u001b[1;32m    212\u001b[0m \u001b[0;34m\u001b[0m\u001b[0m\n\u001b[1;32m    213\u001b[0m     \u001b[0;32mdef\u001b[0m \u001b[0m__exit__\u001b[0m\u001b[0;34m(\u001b[0m\u001b[0mself\u001b[0m\u001b[0;34m,\u001b[0m \u001b[0;34m*\u001b[0m\u001b[0margs\u001b[0m\u001b[0;34m)\u001b[0m\u001b[0;34m:\u001b[0m\u001b[0;34m\u001b[0m\u001b[0;34m\u001b[0m\u001b[0m\n",
      "\u001b[0;31mFileNotFoundError\u001b[0m: [Errno 2] No such file or directory: '/Users/momo/Desktop/model_with_attentions10'"
     ]
    }
   ],
   "source": [
    "model = Attnsense()\n",
    "model.load_state_dict(torch.load(path+'/model_with_attentions10'))"
   ]
  },
  {
   "cell_type": "code",
   "execution_count": null,
   "metadata": {},
   "outputs": [],
   "source": [
    "def acc(net, loader):\n",
    "    correct = 0\n",
    "    total = 0\n",
    "    all_preds = torch.tensor([])\n",
    "    all_lab = torch.tensor([])\n",
    "    with torch.no_grad():\n",
    "        for data in loader:\n",
    "            _, inputs, labels = data\n",
    "            inputs = inputs\n",
    "            labels = labels\n",
    "            outputs = net(inputs).reshape(1,-1)\n",
    "            _, predicted = torch.max(outputs.data, 1)\n",
    "            total += labels.size(0)\n",
    "            correct += (predicted == labels).sum().item()\n",
    "            all_preds = torch.cat((all_preds, predicted) ,dim=0)\n",
    "            all_lab = torch.cat((all_lab, labels) ,dim=0)\n",
    "    print('Accuracy of the network on the test images: %d %%' % (100 * correct / total))\n",
    "    return all_lab, all_preds"
   ]
  },
  {
   "cell_type": "code",
   "execution_count": null,
   "metadata": {},
   "outputs": [
    {
     "ename": "NameError",
     "evalue": "name 'model' is not defined",
     "output_type": "error",
     "traceback": [
      "\u001b[0;31m---------------------------------------------------------------------------\u001b[0m\n",
      "\u001b[0;31mNameError\u001b[0m                                 Traceback (most recent call last)\n",
      "\u001b[0;32m/var/folders/5x/3g67fwns0mb68s__c_3fk4wr0000gn/T/ipykernel_90382/2010409997.py\u001b[0m in \u001b[0;36m<module>\u001b[0;34m\u001b[0m\n",
      "\u001b[0;32m----> 1\u001b[0;31m \u001b[0my_true\u001b[0m\u001b[0;34m,\u001b[0m \u001b[0my_pred\u001b[0m \u001b[0;34m=\u001b[0m \u001b[0macc\u001b[0m\u001b[0;34m(\u001b[0m\u001b[0mmodel\u001b[0m\u001b[0;34m,\u001b[0m \u001b[0mvalidation_dataloader\u001b[0m\u001b[0;34m)\u001b[0m\u001b[0;34m\u001b[0m\u001b[0;34m\u001b[0m\u001b[0m\n",
      "\u001b[0m\n",
      "\u001b[0;31mNameError\u001b[0m: name 'model' is not defined"
     ]
    }
   ],
   "source": [
    "y_true, y_pred = acc(model, validation_dataloader)"
   ]
  },
  {
   "cell_type": "code",
   "execution_count": null,
   "metadata": {},
   "outputs": [
    {
     "data": {
      "text/plain": [
       "<matplotlib.axes._subplots.AxesSubplot at 0x7f20744930d0>"
      ]
     },
     "metadata": {},
     "output_type": "display_data"
    },
    {
     "data": {
      "image/png": "[encoded data removed]",
      "text/plain": [
       "<Figure size 432x288 with 2 Axes>"
      ]
     },
     "metadata": {},
     "output_type": "display_data"
    }
   ],
   "source": [
    "activities = ['Ironing', 'Lying', 'Sitting', 'Standing', 'Walking', 'Running', 'Cycling', 'Nordic Walking']\n",
    "sn.heatmap(pd.DataFrame(confusion_matrix(y_true, y_pred), columns=activities, index=activities), annot=True)"
   ]
  },
  {
   "cell_type": "markdown",
   "metadata": {},
   "source": [
    "## 2. Model"
   ]
  },
  {
   "cell_type": "code",
   "execution_count": 20,
   "metadata": {},
   "outputs": [],
   "source": [
    "SEPCTURAL_SAMPLES = 10\n",
    "FEATURE_DIM = SEPCTURAL_SAMPLES*6*2\n",
    "CONV_LEN = 3\n",
    "CONV_LEN_INTE = 3#4\n",
    "CONV_LEN_LAST = 3#5\n",
    "CONV_NUM = 64\n",
    "CONV_MERGE_LEN = 8\n",
    "CONV_MERGE_LEN2 = 6\n",
    "CONV_MERGE_LEN3 = 4\n",
    "CONV_NUM2 = 64\n",
    "INTER_DIM = 120\n",
    "OUT_DIM = 6#len(idDict)\n",
    "WIDE = 20\n",
    "CONV_KEEP_PROB = 0.8\n",
    "\n",
    "BATCH_SIZE = 64\n",
    "TOTAL_ITER_NUM = 30000\n",
    "\n",
    "select = 'a'\n",
    "\n",
    "metaDict = {'a':[119080, 1193], 'b':[116870, 1413], 'c':[116020, 1477]}\n",
    "TRAIN_SIZE = metaDict[select][0]\n",
    "EVAL_DATA_SIZE = metaDict[select][1]\n",
    "EVAL_ITER_NUM = int(math.ceil(EVAL_DATA_SIZE / BATCH_SIZE))"
   ]
  },
  {
   "cell_type": "code",
   "execution_count": 21,
   "metadata": {},
   "outputs": [],
   "source": [
    "#Example usage: batch_norm_layer = BatchNormLayer(num_features=32, eps=1e-5, momentum=0.1)\n",
    "#               output = batch_norm_layer(input_tensor, phase_train)\n",
    "\n",
    "class BatchNormLayer(nn.Module):\n",
    "    def __init__(self, num_features, eps=1e-5, momentum=0.1):\n",
    "        super(BatchNormLayer, self).__init__()\n",
    "        self.eps = eps\n",
    "        self.momentum = momentum\n",
    "        self.bn = nn.BatchNorm2d(num_features, eps=self.eps, momentum=self.momentum)\n",
    "\n",
    "    def forward(self, inputs, phase_train):\n",
    "        if phase_train: #True for training, and False for evaluation\n",
    "            return self.bn(inputs)\n",
    "        else:\n",
    "            return self.bn(inputs)"
   ]
  },
  {
   "cell_type": "code",
   "execution_count": null,
   "metadata": {},
   "outputs": [],
   "source": [
    "class Conv(nn.Module):\n",
    "    def __init__(self, in_channels, out_channels, kernel_size, stride, padding='valid'):\n",
    "        super(Conv, self).__init__()\n",
    "        if padding == 'valid':\n",
    "            self.padding = 0\n",
    "        elif padding == 'same':\n",
    "            self.padding = (kernel_size - 1) // 2\n",
    "        else:\n",
    "            raise ValueError(\"Invalid padding mode. Use 'valid' or 'same'.\")\n",
    "            \n",
    "        self.conv1 = nn.Sequential(\n",
    "            nn.Conv2d(in_channels, out_channels, kernel_size, stride=stride, padding=self.padding),\n",
    "            nn.BatchNorm2d(out_channels),\n",
    "            nn.ReLU(),\n",
    "            nn.Dropout2d(p=1-CONV_KEEP_PROB),\n",
    "            nn.MaxPool2d(kernel_size=2)\n",
    "        )\n",
    "        self.conv2 = nn.Sequential(\n",
    "            nn.Conv2d(in_channels, out_channels, kernel_size, stride=stride, padding=self.padding),\n",
    "            nn.BatchNorm2d(out_channels),\n",
    "            nn.ReLU(),\n",
    "            nn.Dropout2d(p=1-CONV_KEEP_PROB),\n",
    "            nn.MaxPool2d(kernel_size=2)\n",
    "        )\n",
    "        self.conv3 = nn.Sequential(\n",
    "            nn.Conv2d(in_channels, out_channels, kernel_size, stride=stride, padding=self.padding),\n",
    "            nn.BatchNorm2d(out_channels),\n",
    "            nn.ReLU(),\n",
    "            nn.MaxPool2d(kernel_size=2)\n",
    "        )\n",
    "        self.fc = nn.Linear(in_channels, out_channels)\n",
    "\n",
    "    def forward(self, inputs):\n",
    "        print('x.shape 1: ', inputs.shape)\n",
    "        x = self.conv1(inputs)\n",
    "        print('x.shape 2: ', x.shape)\n",
    "        x = self.conv2(x)\n",
    "        print('x.shape 3: ', x.shape)\n",
    "        x = self.conv3(x)\n",
    "        print('x.shape 4: ', x.shape)\n",
    "        x = torch.flatten(x, start_dim=1)\n",
    "        print('x.shape 5: ', x.shape)\n",
    "        x = self.fc(x)\n",
    "        print('x.shape 6: ', x.shape)\n",
    "        return x"
   ]
  },
  {
   "cell_type": "code",
   "execution_count": 22,
   "metadata": {},
   "outputs": [],
   "source": [
    "def conv(inputs, name, train):\n",
    "    # CONV_NUM is 64\n",
    "    conv1 = nn.Conv2d(inputs.size(1), CONV_NUM, kernel_size=(1, 2*3*CONV_LEN), stride=(1, 2*3), padding=0)\n",
    "    conv1 = nn.BatchNorm2d(CONV_NUM)\n",
    "    conv1_shape = conv1(inputs).size()\n",
    "    print(\"conv1 \", conv1_shape)\n",
    "    conv1 = nn.ReLU(inplace=True)\n",
    "    conv1 = nn.Dropout2d(p=1-CONV_KEEP_PROB)(conv1(inputs))\n",
    "\n",
    "    # CONV_LEN_INTE is 3\n",
    "    conv2 = nn.Conv2d(CONV_NUM, CONV_NUM, kernel_size=(1, CONV_LEN_INTE), stride=(1, 1), padding=0)\n",
    "    conv2 = nn.BatchNorm2d(CONV_NUM)\n",
    "    conv2_shape = conv2(conv1).size()\n",
    "    print(\"conv2 \", conv2_shape)\n",
    "    conv2 = nn.ReLU(inplace=True)\n",
    "    conv2 = nn.Dropout2d(p=1-CONV_KEEP_PROB)(conv2(conv1))\n",
    "\n",
    "    # CONV_LEN_LAST is 3\n",
    "    conv3 = nn.Conv2d(CONV_NUM, CONV_NUM, kernel_size=(1, CONV_LEN_LAST), stride=(1, 1), padding=0)\n",
    "    conv3 = nn.BatchNorm2d(CONV_NUM)\n",
    "    conv3_shape = conv3(conv2).size()\n",
    "    print(\"conv3 \", conv3_shape)\n",
    "\n",
    "    conv_out = conv3.view(conv3_shape[0], conv3_shape[1], 1, conv3_shape[2], conv3_shape[3])\n",
    "    return conv_out\n"
   ]
  },
  {
   "cell_type": "code",
   "execution_count": null,
   "metadata": {},
   "outputs": [],
   "source": [
    "inputs= np.ones(120).reshape([2, 3, 4, 5])\n",
    "inputs = torch.from_numpy(inputs)\n",
    "inputs"
   ]
  },
  {
   "cell_type": "code",
   "execution_count": 23,
   "metadata": {},
   "outputs": [],
   "source": [
    "def attention_mode(inputs): # Attention-fusion Subnet\n",
    "    \"\"\"inputs, shape: [batch, time_step, input_mode, feature_dim]\"\"\"\n",
    "    d = inputs.shape[-1]\n",
    "    l = inputs.shape[-2]\n",
    "    print(d,l)\n",
    "    w = torch.randn([d,l], requires_grad=True, dtype=torch.double) * 0.1 # weights\n",
    "    b = torch.randn(l, requires_grad=True, dtype=torch.double) * 0.1 \n",
    "    omega = torch.randn(l, requires_grad=True, dtype=torch.double) * 0.1 \n",
    "\n",
    "    activation = torch.tanh(torch.matmul(inputs,w) + b)  # b * t * i * i = [b,t,i,d] * [d,i]\n",
    "    activation = torch.matmul(activation,omega) # b * t * i = [b,t,i,i] * [i]\n",
    "    alphas = F.softmax(activation, dim=-1)  # b * t * i\n",
    "    print(\"alphas \", str(alphas.shape))\n",
    "    beta = inputs * alphas.unsqueeze(-1)\n",
    "    print(beta.shape)\n",
    "    output = torch.sum(beta, dim=2)  # b * t * d = [b,t,i,d] * [b,t,i,1] element_wise\n",
    "    print(output.shape) #shape: [batch, time_step, feature_dim]\n",
    "    return alphas, output"
   ]
  },
  {
   "cell_type": "code",
   "execution_count": 26,
   "metadata": {},
   "outputs": [],
   "source": [
    "def attention_time(inputs, attention_size, time_major=False, return_alphas=False):\n",
    "    if isinstance(inputs, tuple):\n",
    "        # In case of Bi-RNN, concatenate the forward and the backward RNN outputs.\n",
    "        inputs = torch.cat(inputs, 2)\n",
    "\n",
    "    if time_major:\n",
    "        # (T,B,D) => (B,T,D)\n",
    "        inputs = inputs.transpose(0, 1)\n",
    "\n",
    "    hidden_size = inputs.size(2)  # D value - hidden size of the RNN layer\n",
    "\n",
    "    # Trainable parameters\n",
    "    w_omega = nn.Parameter(torch.randn(hidden_size, attention_size) * 0.1)\n",
    "    b_omega = nn.Parameter(torch.randn(attention_size) * 0.1)\n",
    "    u_omega = nn.Parameter(torch.randn(attention_size) * 0.1)\n",
    "\n",
    "    with torch.no_grad():\n",
    "        w_omega.requiresGrad = True\n",
    "        b_omega.requiresGrad = True\n",
    "        u_omega.requiresGrad = True\n",
    "\n",
    "    with torch.name_scope('v'):\n",
    "        # Applying fully connected layer with non-linear activation to each of the B*T timestamps;\n",
    "        # the shape of `v` is (B,T,D)*(D,A)=(B,T,A), where A=attention_size\n",
    "        v = torch.tanh(torch.matmul(inputs, w_omega) + b_omega)\n",
    "\n",
    "    # For each of the timestamps, its vector of size A from `v` is reduced with the `u` vector\n",
    "    vu = torch.matmul(v, u_omega).squeeze(-1)  # (B,T) shape\n",
    "    alphas = F.softmax(vu, dim=1)   # (B,T) shape\n",
    "\n",
    "    # Output of (Bi-)RNN is reduced with the attention vector; the result has (B,D) shape\n",
    "    output = torch.sum(inputs * alphas.unsqueeze(-1), dim=1)\n",
    "\n",
    "    if not return_alphas:\n",
    "        return output\n",
    "    else:\n",
    "        return output, alphas\n"
   ]
  },
  {
   "cell_type": "code",
   "execution_count": 28,
   "metadata": {},
   "outputs": [],
   "source": [
    "class AttnSense(nn.Module):\n",
    "    def __init__(self):\n",
    "        super(AttnSense, self).__init__()\n",
    "        self.used = None\n",
    "        self.avgNum = None\n",
    "\n",
    "        self.attn1 = attention_mode()\n",
    "        self.attn2 = attention_time()\n",
    "        self.conv = Conv()\n",
    "\n",
    "        # Define GRU layer\n",
    "        self.gru1 = nn.GRUCell(input_size, hidden_size)\n",
    "        self.gru2 = nn.GRUCell(hidden_size, hidden_size)\n",
    "        self.fc_gru = nn.\n",
    "\n",
    "        self.cell = nn.RNNCellBase([self.gru1, self.gru2])\n",
    "        self.init_state = torch.zeros(2, BATCH_SIZE, hidden_size, dtype=torch.float32)\n",
    "\n",
    "        self.AZ = 80\n",
    "        self.attention_out = None\n",
    "\n",
    "    def forward(self, inputs):\n",
    "        used = torch.sign(torch.max(torch.abs(inputs), dim=2)[0])  # (BATCH_SIZE, WIDE)\n",
    "        self.used = used\n",
    "        length = torch.sum(used, dim=1)  # (BATCH_SIZE)\n",
    "        length = length.type(torch.int64)\n",
    "\n",
    "        mask = torch.sign(torch.max(torch.abs(inputs), dim=2, keepdim=True)[0])\n",
    "        mask = mask.repeat(1, 1, INTER_DIM)  # (BATCH_SIZE, WIDE, INTER_DIM)\n",
    "        avgNum = torch.sum(mask, dim=1)  # (BATCH_SIZE, INTER_DIM)\n",
    "        self.avgNum = avgNum\n",
    "\n",
    "        sensor_inputs = inputs.unsqueeze(3)  # (BATCH_SIZE, WIDE, FEATURE_DIM, CHANNEL=1)\n",
    "        acc_inputs, gyro_inputs = torch.split(sensor_inputs, split_size_or_sections=input_size // 2, dim=2)\n",
    "\n",
    "        acc_conv_out = self.sensor_local_feature_layer(acc_inputs, \"acc\", train=self.train)\n",
    "        gyro_conv_out = self.sensor_local_feature_layer(gyro_inputs, \"gyro\", train=self.train)\n",
    "\n",
    "        sensor_conv_in = torch.cat([acc_conv_out, gyro_conv_out], dim=2)\n",
    "        sensor_conv3 = sensor_conv_in\n",
    "\n",
    "        attention_input = sensor_conv3.view(sensor_conv3.size(0), sensor_conv3.size(1), sensor_conv3.size(2),\n",
    "                                            sensor_conv3.size(3) * sensor_conv3.size(4))\n",
    "        sensor_conv_out = self.attention_fusion_1(attention_input)\n",
    "\n",
    "        self.init_state = torch.zeros(2, inputs.size(0), self.cell.hidden_size, dtype=torch.float32)\n",
    "        cell_output = []\n",
    "        h_t = self.init_state\n",
    "\n",
    "        for t in range(inputs.size(1)):\n",
    "            h_t = self.cell(inputs[:, t], h_t)\n",
    "            cell_output.append(h_t)\n",
    "\n",
    "        cell_output = torch.stack(cell_output, dim=1)  # (BATCH_SIZE, WIDE, INTER_DIM)\n",
    "\n",
    "        attention_out = self.attention(cell_output, attention_size=self.AZ)\n",
    "        self.attention_out = attention_out\n",
    "\n",
    "        avg_cell_out = attention_out\n",
    "\n",
    "        # Define other operations here if needed\n",
    "\n",
    "        # Assuming fully connected layer for logits\n",
    "        logits = self.fully_connected_layer(avg_cell_out)\n",
    "\n",
    "        return logits\n",
    "\n",
    "\n",
    "# Usage:\n",
    "# Create an instance of AttnSense with appropriate input_size, hidden_size, output_size, and train (True for training, False for evaluation)\n",
    "# deep_sense_model = AttnSense(input_size=..., hidden_size=..., output_size=..., train=...)\n",
    "# logits = deep_sense_model(input_tensor)\n"
   ]
  },
  {
   "cell_type": "code",
   "execution_count": null,
   "metadata": {},
   "outputs": [],
   "source": [
    "# Create an instance of the DeepSense model with training mode\n",
    "deep_sense_model = DeepSense(input_size=..., hidden_size=..., output_size=..., train=True)\n",
    "\n",
    "# Forward pass to get model\n",
    "model = deep_sense_model(input)\n",
    "\n",
    "# Calculate the predictions\n",
    "_, predict = torch.max(model, dim=1)\n",
    "\n",
    "# Calculate the cross-entropy loss\n",
    "criterion = nn.CrossEntropyLoss()\n",
    "batchLoss = criterion(model, batch_label)\n",
    "loss = torch.mean(batchLoss)\n",
    "\n",
    "# Create an instance of the DeepSense model with evaluation mode (reuse=True)\n",
    "deep_sense_model_eval = DeepSense(input_size=..., hidden_size=..., output_size=..., train=False, reuse=True)\n",
    "\n",
    "# Forward pass to get model for evaluation\n",
    "model_eval = deep_sense_model_eval(batch_eval_feature)\n",
    "\n",
    "# Calculate the predictions for evaluation\n",
    "_, predict_eval = torch.max(model_eval, dim=1)\n",
    "\n",
    "# Calculate the cross-entropy loss for evaluation\n",
    "loss_eval = torch.mean(criterion(model_eval, batch_eval_label))\n",
    "\n",
    "# Get the trainable parameters of the model\n",
    "t_params = deep_sense_model.parameters()\n",
    "\n",
    "# Calculate the L2 regularization term\n",
    "regularizers = torch.tensor(0., dtype=torch.float32)\n",
    "for param in t_params:\n",
    "    regularizers += torch.sum(param * param)  # L2 loss\n",
    "loss += 5e-4 * regularizers\n"
   ]
  },
  {
   "cell_type": "code",
   "execution_count": null,
   "metadata": {},
   "outputs": [],
   "source": [
    "# Create an instance of the DeepSense model with training mode\n",
    "deep_sense_model = DeepSense(input_size=..., hidden_size=..., output_size=..., train=True)\n",
    "\n",
    "# Initialize model parameters\n",
    "deep_sense_model.apply(weights_init)\n",
    "\n",
    "device = torch.device(\"cuda\" if torch.cuda.is_available() else \"cpu\")\n",
    "deep_sense_model.to(device)\n",
    "\n",
    "# Assuming you have defined the data loaders for training and evaluation\n",
    "train_loader = ...\n",
    "eval_loader = ...\n",
    "\n",
    "best = -0.1\n",
    "for iteration in range(TOTAL_ITER_NUM):\n",
    "    deep_sense_model.train()  # Set the model to training mode\n",
    "\n",
    "    for batch_feature, batch_label in train_loader:\n",
    "        batch_feature = batch_feature.to(device)\n",
    "        batch_label = batch_label.to(device)\n",
    "\n",
    "        # Forward pass and calculate loss\n",
    "        logits = deep_sense_model(batch_feature)\n",
    "        loss = criterion(logits, batch_label)\n",
    "\n",
    "        # Backpropagation and optimization\n",
    "        discOptimizer.zero_grad()\n",
    "        loss.backward()\n",
    "        discOptimizer.step()\n",
    "\n",
    "        # Assuming you have implemented a function to calculate accuracy\n",
    "        accuracy = calculate_accuracy(logits, batch_label)\n",
    "\n",
    "        # Plot training statistics (Note: Implement a similar plot function)\n",
    "        plot.plot('train cross entropy', loss.item())\n",
    "        plot.plot('train accuracy', accuracy)\n",
    "\n",
    "    if iteration % 50 == 49:\n",
    "        deep_sense_model.eval()  # Set the model to evaluation mode\n",
    "        dev_accuracy = []\n",
    "        dev_cross_entropy = []\n",
    "        with torch.no_grad():\n",
    "            for batch_eval_feature, batch_eval_label in eval_loader:\n",
    "                batch_eval_feature = batch_eval_feature.to(device)\n",
    "                batch_eval_label = batch_eval_label.to(device)\n",
    "\n",
    "                # Forward pass for evaluation\n",
    "                logits_eval = deep_sense_model(batch_eval_feature)\n",
    "                eval_loss = criterion(logits_eval, batch_eval_label)\n",
    "\n",
    "                # Calculate accuracy for evaluation\n",
    "                eval_accuracy = calculate_accuracy(logits_eval, batch_eval_label)\n",
    "\n",
    "                dev_accuracy.append(eval_accuracy)\n",
    "                dev_cross_entropy.append(eval_loss.item())\n",
    "\n",
    "        mean_dev_accuracy = torch.mean(torch.tensor(dev_accuracy))\n",
    "        best = max(best, mean_dev_accuracy)\n",
    "        plot.plot('dev accuracy', mean_dev_accuracy.item())\n",
    "        plot.plot('dev cross entropy', torch.mean(torch.tensor(dev_cross_entropy)).item())\n",
    "\n",
    "    if (iteration < 5) or (iteration % 50 == 49):\n",
    "        plot.flush()\n",
    "\n",
    "    plot.tick()\n",
    "\n",
    "print(\"best score \" + str(best))\n"
   ]
  },
  {
   "cell_type": "markdown",
   "metadata": {},
   "source": [
    "## 3. Experiment"
   ]
  },
  {
   "cell_type": "markdown",
   "metadata": {},
   "source": [
    "### 3.1 parameters"
   ]
  },
  {
   "cell_type": "code",
   "execution_count": null,
   "metadata": {},
   "outputs": [],
   "source": []
  },
  {
   "cell_type": "code",
   "execution_count": null,
   "metadata": {},
   "outputs": [],
   "source": []
  },
  {
   "cell_type": "markdown",
   "metadata": {},
   "source": [
    "### 3.2 training"
   ]
  },
  {
   "cell_type": "code",
   "execution_count": null,
   "metadata": {},
   "outputs": [],
   "source": []
  },
  {
   "cell_type": "markdown",
   "metadata": {},
   "source": [
    "### 3.3 evaluation"
   ]
  },
  {
   "cell_type": "code",
   "execution_count": null,
   "metadata": {},
   "outputs": [],
   "source": []
  }
 ],
 "metadata": {
  "kernelspec": {
   "display_name": "study",
   "language": "python",
   "name": "python3"
  },
  "language_info": {
   "codemirror_mode": {
    "name": "ipython",
    "version": 3
   },
   "file_extension": ".py",
   "mimetype": "text/x-python",
   "name": "python",
   "nbconvert_exporter": "python",
   "pygments_lexer": "ipython3",
   "version": "3.9.7"
  },
  "orig_nbformat": 4
 },
 "nbformat": 4,
 "nbformat_minor": 2
}
