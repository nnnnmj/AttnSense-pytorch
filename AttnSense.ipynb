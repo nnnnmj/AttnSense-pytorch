{
 "cells": [
  {
   "cell_type": "code",
   "execution_count": 1,
   "metadata": {},
   "outputs": [],
   "source": [
    "import os\n",
    "import sys\n",
    "import numpy as np\n",
    "import pandas as pd\n",
    "import matplotlib.pyplot as plt\n",
    "import seaborn as sns\n",
    "\n",
    "import torch\n",
    "import torch.nn as nn\n",
    "import torch.nn.functional as F\n",
    "import torch.optim as optim\n",
    "from torch.utils.data import Dataset, DataLoader, TensorDataset, RandomSampler, SequentialSampler, random_split\n",
    "import timeit\n",
    "import math\n",
    "import pickle\n",
    "\n",
    "from plot import *\n",
    "from utils import *\n",
    "\n",
    "from sklearn.metrics import confusion_matrix\n",
    "RANDOM_STATE = 42"
   ]
  },
  {
   "cell_type": "code",
   "execution_count": null,
   "metadata": {},
   "outputs": [],
   "source": [
    "################  Parameters  ################\n",
    "\n",
    "torch.manual_seed(RANDOM_STATE)\n",
    "\n",
    "SEPCTURAL_SAMPLES = 10\n",
    "FEATURE_DIM = SEPCTURAL_SAMPLES*6*2\n",
    "CONV_LEN = 3\n",
    "CONV_LEN_INTE = 3#4\n",
    "CONV_LEN_LAST = 3#5\n",
    "CONV_NUM = 64 #CONV_NUM = out channels = in channels * conv_num'\n",
    "CONV_MERGE_LEN = 8\n",
    "CONV_MERGE_LEN2 = 6\n",
    "CONV_MERGE_LEN3 = 4\n",
    "CONV_NUM2 = 64\n",
    "INTER_DIM = 120\n",
    "OUT_DIM = 6#len(idDict)\n",
    "WIDE = 20\n",
    "CONV_KEEP_PROB = 0.8\n",
    "\n",
    "BATCH_SIZE = 64\n",
    "TOTAL_ITER_NUM = 30000\n",
    "\n",
    "select = 'a'\n",
    "\n",
    "metaDict = {'a':[119080, 1193], 'b':[116870, 1413], 'c':[116020, 1477]}\n",
    "TRAIN_SIZE = metaDict[select][0]\n",
    "EVAL_DATA_SIZE = metaDict[select][1]\n",
    "EVAL_ITER_NUM = int(math.ceil(EVAL_DATA_SIZE / BATCH_SIZE))\n",
    "\n",
    "device = torch.device(\"cuda:0\" if torch.cuda.is_available() else \"cpu\")\n",
    "path = './'"
   ]
  },
  {
   "cell_type": "markdown",
   "metadata": {},
   "source": [
    "## 1. Data preprocessing"
   ]
  },
  {
   "cell_type": "markdown",
   "metadata": {},
   "source": [
    "### 1.1 read data"
   ]
  },
  {
   "cell_type": "code",
   "execution_count": 2,
   "metadata": {},
   "outputs": [
    {
     "name": "stdout",
     "output_type": "stream",
     "text": [
      "[[0.0], [0.0], [0.0], [0.0], [0.0], [0.0], [0.0]]\n"
     ]
    }
   ],
   "source": [
    "defaultVal = [[0.] for idx in range(2*3 + 1)]\n",
    "print(defaultVal)"
   ]
  },
  {
   "cell_type": "code",
   "execution_count": 3,
   "metadata": {},
   "outputs": [],
   "source": [
    "# get the data of the subject and returns df with the relevant information\n",
    "def prep_data(path, subject):\n",
    "    data = pd.read_csv(path, sep=' ', header=None)\n",
    "    data.columns = pd.RangeIndex(1, len(data.columns) + 1) \n",
    "    data.drop(3, axis='columns', inplace=True)\n",
    "    data = data.dropna()\n",
    "    data = data[[1,2,22,23,24,28,29,30]]\n",
    "    cols = {1: 'time_step', 2: 'activity_id', 22: 'acc_x', 23: 'acc_y', 24: 'acc_z', 28: 'gyro_x', 29: 'gyro_y', 30: 'gyro_z'}\n",
    "    data = data.rename(columns=cols)\n",
    "    # calculating norm\n",
    "    data['acc_norm'] = np.sqrt(data['acc_x'] ** 2 + data['acc_y'] ** 2 + data['acc_z'] ** 2)\n",
    "    data['gyro_norm'] = np.sqrt(data['gyro_x'] ** 2 + data['gyro_y'] ** 2 + data['gyro_z'] ** 2)\n",
    "    data['User'] = f'{subject}'\n",
    "    print(f'{subject}')\n",
    "    return data"
   ]
  },
  {
   "cell_type": "code",
   "execution_count": 4,
   "metadata": {},
   "outputs": [],
   "source": [
    "# data = pd.read_csv('/Users/momo/Documents/dataset/pamap2+physical+activity+monitoring/Protocol/subject101.dat', sep=' ', header=None)\n",
    "# data.head()"
   ]
  },
  {
   "cell_type": "code",
   "execution_count": 4,
   "metadata": {},
   "outputs": [
    {
     "name": "stdout",
     "output_type": "stream",
     "text": [
      "101\n",
      "102\n"
     ]
    }
   ],
   "source": [
    "# Perform preprocess for different subjects\n",
    "# subjects = ['101', '102', '105', '106', '107', '108']\n",
    "subjects = ['101','102']\n",
    "path = '/Users/momo/Documents/dataset/pamap2+physical+activity+monitoring/Protocol'\n",
    "data_list = []\n",
    "for subject in subjects:\n",
    "    data_list.append(prep_data(path + '/subject' + subject + '.dat', subject))"
   ]
  },
  {
   "cell_type": "code",
   "execution_count": 5,
   "metadata": {},
   "outputs": [
    {
     "data": {
      "text/plain": [
       "(   time_step  activity_id     acc_x    acc_y    acc_z    gyro_x    gyro_y  \\\n",
       " 0       8.38            0  0.238080  9.80003 -1.68896 -0.005065 -0.006781   \n",
       " 1       8.39            0  0.319530  9.61282 -1.49328  0.013685  0.001486   \n",
       " 2       8.40            0  0.235593  9.72421 -1.76621 -0.039923  0.034056   \n",
       " 3       8.41            0  0.388697  9.53572 -1.72410  0.007513 -0.010498   \n",
       " 4       8.42            0  0.315800  9.49908 -1.60914 -0.003822 -0.011217   \n",
       " \n",
       "      gyro_z  acc_norm  gyro_norm User  \n",
       " 0 -0.005663  9.947354   0.010184  101  \n",
       " 1 -0.041522  9.733360   0.043744  101  \n",
       " 2 -0.002113  9.886115   0.052518  101  \n",
       " 3 -0.020684  9.698122   0.024382  101  \n",
       " 4 -0.025975  9.639584   0.028550  101  ,\n",
       "    time_step  activity_id    acc_x    acc_y    acc_z    gyro_x    gyro_y  \\\n",
       " 0       5.64            0  1.94739  9.59644 -3.12873  0.124025  0.112482   \n",
       " 1       5.65            0  1.75120  9.63340 -3.32601  0.132679  0.060829   \n",
       " 2       5.66            0  1.67059  9.70790 -3.48260  0.074772  0.124062   \n",
       " 3       5.67            0  1.66925  9.63234 -3.52110  0.063729  0.136592   \n",
       " 4       5.68            0  1.58969  9.66945 -3.63882  0.008942  0.107000   \n",
       " \n",
       "      gyro_z   acc_norm  gyro_norm User  \n",
       " 0 -0.044947  10.279734   0.173363  102  \n",
       " 1 -0.044168  10.340766   0.152495  102  \n",
       " 2 -0.053608  10.448095   0.154454  102  \n",
       " 3  0.004851  10.390694   0.150806  102  \n",
       " 4  0.003266  10.453056   0.107423  102  )"
      ]
     },
     "execution_count": 5,
     "metadata": {},
     "output_type": "execute_result"
    }
   ],
   "source": [
    "data_list[0].head(),data_list[1].head()"
   ]
  },
  {
   "cell_type": "code",
   "execution_count": 6,
   "metadata": {},
   "outputs": [],
   "source": [
    "# Combine to one df\n",
    "for d in range(len(data_list)):\n",
    "  if d==0:\n",
    "    df = data_list[0]\n",
    "  else:\n",
    "    df = pd.concat([df, data_list[d]], axis=0, ignore_index=True)"
   ]
  },
  {
   "cell_type": "markdown",
   "metadata": {},
   "source": [
    "### 1.2 normalization"
   ]
  },
  {
   "cell_type": "code",
   "execution_count": 7,
   "metadata": {},
   "outputs": [],
   "source": [
    "def normalize(df, cols): #list of columns\n",
    "    df_t=(df[cols]-df[cols].mean())/df[cols].std() #均值为0，方差为1的分布\n",
    "    df_norm = df.copy()\n",
    "    df_norm[cols] = df_t\n",
    "\n",
    "    return df_norm"
   ]
  },
  {
   "cell_type": "code",
   "execution_count": 8,
   "metadata": {},
   "outputs": [],
   "source": [
    "data_norm = normalize(df, ['acc_norm', 'gyro_norm'])"
   ]
  },
  {
   "cell_type": "markdown",
   "metadata": {},
   "source": [
    "### 1.3 augmentation"
   ]
  },
  {
   "cell_type": "code",
   "execution_count": 9,
   "metadata": {},
   "outputs": [],
   "source": [
    "def add_noise(df, cols, sigma=0.1):\n",
    "    noise = np.random.normal(0, sigma, df[cols].shape)\n",
    "    new_signal = df[cols] + noise\n",
    "    df_noise = df.copy()\n",
    "    df_noise[cols] = new_signal\n",
    "\n",
    "    return df_noise\n",
    "\n",
    "def augment(df, cols, num_of_inst):\n",
    "    '''\n",
    "    df should be inserted normalized\n",
    "    num_of_inst = num of instances to create from each instance\n",
    "    '''\n",
    "    aug_df = df.copy()\n",
    "    for i in range(num_of_inst):\n",
    "        np.random.seed(i)\n",
    "        nois_data = add_noise(df, cols)\n",
    "        nois_data['User'] = nois_data['User'] + f'{i}'\n",
    "        aug_df= pd.concat([aug_df, nois_data], axis=0, ignore_index=True)\n",
    "\n",
    "    return aug_df"
   ]
  },
  {
   "cell_type": "code",
   "execution_count": 10,
   "metadata": {},
   "outputs": [],
   "source": [
    "data_aug = augment(data_norm, ['acc_norm', 'gyro_norm'], 1)"
   ]
  },
  {
   "cell_type": "code",
   "execution_count": 11,
   "metadata": {},
   "outputs": [
    {
     "data": {
      "text/html": [
       "<div>\n",
       "<style scoped>\n",
       "    .dataframe tbody tr th:only-of-type {\n",
       "        vertical-align: middle;\n",
       "    }\n",
       "\n",
       "    .dataframe tbody tr th {\n",
       "        vertical-align: top;\n",
       "    }\n",
       "\n",
       "    .dataframe thead th {\n",
       "        text-align: right;\n",
       "    }\n",
       "</style>\n",
       "<table border=\"1\" class=\"dataframe\">\n",
       "  <thead>\n",
       "    <tr style=\"text-align: right;\">\n",
       "      <th></th>\n",
       "      <th>time_step</th>\n",
       "      <th>activity_id</th>\n",
       "      <th>acc_x</th>\n",
       "      <th>acc_y</th>\n",
       "      <th>acc_z</th>\n",
       "      <th>gyro_x</th>\n",
       "      <th>gyro_y</th>\n",
       "      <th>gyro_z</th>\n",
       "      <th>acc_norm</th>\n",
       "      <th>gyro_norm</th>\n",
       "      <th>User</th>\n",
       "    </tr>\n",
       "  </thead>\n",
       "  <tbody>\n",
       "    <tr>\n",
       "      <th>0</th>\n",
       "      <td>8.38</td>\n",
       "      <td>0</td>\n",
       "      <td>0.238080</td>\n",
       "      <td>9.80003</td>\n",
       "      <td>-1.68896</td>\n",
       "      <td>-0.005065</td>\n",
       "      <td>-0.006781</td>\n",
       "      <td>-0.005663</td>\n",
       "      <td>-0.066101</td>\n",
       "      <td>-0.818660</td>\n",
       "      <td>101</td>\n",
       "    </tr>\n",
       "    <tr>\n",
       "      <th>1</th>\n",
       "      <td>8.39</td>\n",
       "      <td>0</td>\n",
       "      <td>0.319530</td>\n",
       "      <td>9.61282</td>\n",
       "      <td>-1.49328</td>\n",
       "      <td>0.013685</td>\n",
       "      <td>0.001486</td>\n",
       "      <td>-0.041522</td>\n",
       "      <td>-0.128133</td>\n",
       "      <td>-0.764882</td>\n",
       "      <td>101</td>\n",
       "    </tr>\n",
       "    <tr>\n",
       "      <th>2</th>\n",
       "      <td>8.40</td>\n",
       "      <td>0</td>\n",
       "      <td>0.235593</td>\n",
       "      <td>9.72421</td>\n",
       "      <td>-1.76621</td>\n",
       "      <td>-0.039923</td>\n",
       "      <td>0.034056</td>\n",
       "      <td>-0.002113</td>\n",
       "      <td>-0.083853</td>\n",
       "      <td>-0.750823</td>\n",
       "      <td>101</td>\n",
       "    </tr>\n",
       "    <tr>\n",
       "      <th>3</th>\n",
       "      <td>8.41</td>\n",
       "      <td>0</td>\n",
       "      <td>0.388697</td>\n",
       "      <td>9.53572</td>\n",
       "      <td>-1.72410</td>\n",
       "      <td>0.007513</td>\n",
       "      <td>-0.010498</td>\n",
       "      <td>-0.020684</td>\n",
       "      <td>-0.138347</td>\n",
       "      <td>-0.795908</td>\n",
       "      <td>101</td>\n",
       "    </tr>\n",
       "    <tr>\n",
       "      <th>4</th>\n",
       "      <td>8.42</td>\n",
       "      <td>0</td>\n",
       "      <td>0.315800</td>\n",
       "      <td>9.49908</td>\n",
       "      <td>-1.60914</td>\n",
       "      <td>-0.003822</td>\n",
       "      <td>-0.011217</td>\n",
       "      <td>-0.025975</td>\n",
       "      <td>-0.155316</td>\n",
       "      <td>-0.789230</td>\n",
       "      <td>101</td>\n",
       "    </tr>\n",
       "  </tbody>\n",
       "</table>\n",
       "</div>"
      ],
      "text/plain": [
       "   time_step  activity_id     acc_x    acc_y    acc_z    gyro_x    gyro_y  \\\n",
       "0       8.38            0  0.238080  9.80003 -1.68896 -0.005065 -0.006781   \n",
       "1       8.39            0  0.319530  9.61282 -1.49328  0.013685  0.001486   \n",
       "2       8.40            0  0.235593  9.72421 -1.76621 -0.039923  0.034056   \n",
       "3       8.41            0  0.388697  9.53572 -1.72410  0.007513 -0.010498   \n",
       "4       8.42            0  0.315800  9.49908 -1.60914 -0.003822 -0.011217   \n",
       "\n",
       "     gyro_z  acc_norm  gyro_norm User  \n",
       "0 -0.005663 -0.066101  -0.818660  101  \n",
       "1 -0.041522 -0.128133  -0.764882  101  \n",
       "2 -0.002113 -0.083853  -0.750823  101  \n",
       "3 -0.020684 -0.138347  -0.795908  101  \n",
       "4 -0.025975 -0.155316  -0.789230  101  "
      ]
     },
     "execution_count": 11,
     "metadata": {},
     "output_type": "execute_result"
    }
   ],
   "source": [
    "data_aug.head()"
   ]
  },
  {
   "cell_type": "markdown",
   "metadata": {},
   "source": [
    "### 1.4 FFT"
   ]
  },
  {
   "cell_type": "code",
   "execution_count": 12,
   "metadata": {},
   "outputs": [
    {
     "data": {
      "text/plain": [
       "array(['101', '1010', '102', '1020'], dtype=object)"
      ]
     },
     "execution_count": 12,
     "metadata": {},
     "output_type": "execute_result"
    }
   ],
   "source": [
    "aaa = data_aug\n",
    "np.unique(aaa['activity_id'])\n",
    "np.unique(aaa['User'])"
   ]
  },
  {
   "cell_type": "code",
   "execution_count": 13,
   "metadata": {},
   "outputs": [
    {
     "name": "stdout",
     "output_type": "stream",
     "text": [
      "(0, 5)\n"
     ]
    },
    {
     "data": {
      "text/html": [
       "<div>\n",
       "<style scoped>\n",
       "    .dataframe tbody tr th:only-of-type {\n",
       "        vertical-align: middle;\n",
       "    }\n",
       "\n",
       "    .dataframe tbody tr th {\n",
       "        vertical-align: top;\n",
       "    }\n",
       "\n",
       "    .dataframe thead th {\n",
       "        text-align: right;\n",
       "    }\n",
       "</style>\n",
       "<table border=\"1\" class=\"dataframe\">\n",
       "  <thead>\n",
       "    <tr style=\"text-align: right;\">\n",
       "      <th></th>\n",
       "      <th>activity</th>\n",
       "      <th>timstep</th>\n",
       "      <th>user</th>\n",
       "      <th>acc_spec</th>\n",
       "      <th>gyro_spec</th>\n",
       "    </tr>\n",
       "  </thead>\n",
       "  <tbody>\n",
       "  </tbody>\n",
       "</table>\n",
       "</div>"
      ],
      "text/plain": [
       "Empty DataFrame\n",
       "Columns: [activity, timstep, user, acc_spec, gyro_spec]\n",
       "Index: []"
      ]
     },
     "execution_count": 13,
     "metadata": {},
     "output_type": "execute_result"
    }
   ],
   "source": [
    "initial_data = data_aug\n",
    "unique_actions = np.unique(initial_data['activity_id'])\n",
    "unique_users = np.unique(initial_data['User'])\n",
    "dff = pd.DataFrame(columns=['activity','timstep', 'user','acc_spec','gyro_spec'])\n",
    "print(dff.shape)\n",
    "dff.head()"
   ]
  },
  {
   "cell_type": "code",
   "execution_count": 14,
   "metadata": {},
   "outputs": [
    {
     "name": "stdout",
     "output_type": "stream",
     "text": [
      "[ 0  1  2  3  4  5  6  7 12 13 16 17 24]\n"
     ]
    }
   ],
   "source": [
    "print(unique_actions)"
   ]
  },
  {
   "cell_type": "code",
   "execution_count": null,
   "metadata": {},
   "outputs": [],
   "source": [
    "path = '/Users/momo/Desktop'\n",
    "for action in [1]:\n",
    "    print('action: ', action)\n",
    "    for user in ['101']:\n",
    "        print('user: ', user)\n",
    "        act_user_temp = initial_data[(initial_data['activity_id']==action) & (initial_data['User']==user)]\n",
    "        NFFT = 25\n",
    "        noverlap = int(0.25 * NFFT)\n",
    "        print(act_user_temp.shape, noverlap)\n",
    "        fig = plt.figure(frameon=False)\n",
    "        sr = 100\n",
    "        timestep = 0\n",
    "        for row in range(0, act_user_temp.shape[0], 150): # overlap of the data is 50%. not the hyperparameter of FFT.\n",
    "            timestep += 1\n",
    "            spec_acc, freqenciesFound_x, time, imageAxis_x = plt.specgram(act_user_temp['acc_norm'][row:row + 200], Fs=100, NFFT=NFFT, noverlap=noverlap, window=np.hamming(NFFT),cmap='viridis')\n",
    "            spec_gyro, freqenciesFound_x, time, imageAxis_x = plt.specgram(act_user_temp['gyro_norm'][row:row + 200], Fs=100, NFFT=NFFT, noverlap=noverlap, window=np.hamming(NFFT),cmap='viridis')\n",
    "            instance = pd.DataFrame({'activity':action, 'timstep':timestep, 'user':user, 'acc_spec':[spec_acc], 'gyro_spec':[spec_gyro]})\n",
    "            dff = dff.append(instance, ignore_index=True) # label, timestep, user, f*t (spectrogram), f*t (spectrogram)\n",
    "        plt.close(\"all\")"
   ]
  },
  {
   "cell_type": "code",
   "execution_count": 54,
   "metadata": {},
   "outputs": [
    {
     "data": {
      "text/plain": [
       "(27179, 11)"
      ]
     },
     "execution_count": 54,
     "metadata": {},
     "output_type": "execute_result"
    }
   ],
   "source": [
    "act_user_temp.shape"
   ]
  },
  {
   "cell_type": "code",
   "execution_count": null,
   "metadata": {},
   "outputs": [],
   "source": [
    "act_user_temp = initial_data[(initial_data['activity_id']==action) & (initial_data['User']==user)]\n",
    "NFFT = 25\n",
    "noverlap = int(0.25 * NFFT)\n",
    "print(act_user_temp.shape, noverlap)\n",
    "fig = plt.figure(frameon=False)\n",
    "sr = 100\n",
    "timestep = 0\n",
    "for row in range(0, act_user_temp.shape[0], 150): # overlap of the data is 50%. not the hyperparameter of FFT.\n",
    "    timestep += 1\n",
    "    spec_acc, freqenciesFound_x, time, imageAxis_x = plt.specgram(act_user_temp['acc_norm'][row:row + 200], Fs=100, NFFT=NFFT, noverlap=noverlap, window=np.hamming(NFFT),cmap='viridis')\n",
    "    spec_gyro, freqenciesFound_x, time, imageAxis_x = plt.specgram(act_user_temp['gyro_norm'][row:row + 200], Fs=100, NFFT=NFFT, noverlap=noverlap, window=np.hamming(NFFT),cmap='viridis')\n",
    "    instance = pd.DataFrame({'activity':action, 'timstep':timestep, 'user':user, 'acc_spec':[spec_acc], 'gyro_spec':[spec_gyro]})\n",
    "    dff = dff.append(instance, ignore_index=True) # label, timestep, user, f*t (spectrogram), f*t (spectrogram)\n",
    "plt.close(\"all\")"
   ]
  },
  {
   "cell_type": "code",
   "execution_count": 56,
   "metadata": {},
   "outputs": [
    {
     "data": {
      "image/png": "[encoded data removed]",
      "text/plain": [
       "<Figure size 432x288 with 1 Axes>"
      ]
     },
     "metadata": {
      "needs_background": "light"
     },
     "output_type": "display_data"
    }
   ],
   "source": [
    "dff = []\n",
    "for row in range(0,1000,150):\n",
    "    spec_acc, freqenciesFound_x, time, imageAxis_x = plt.specgram(S[row:row + 200], Fs=100, NFFT=NFFT, noverlap=noverlap, window=np.hamming(NFFT),cmap='viridis')\n",
    "    dff.append(spec_acc)\n",
    "    plt.imshow(spec_acc)"
   ]
  },
  {
   "cell_type": "code",
   "execution_count": 59,
   "metadata": {},
   "outputs": [
    {
     "name": "stdout",
     "output_type": "stream",
     "text": [
      "(13, 10)\n",
      "(13, 10)\n",
      "(13, 10)\n",
      "(13, 10)\n",
      "(13, 10)\n",
      "(13, 10)\n",
      "(13, 4)\n"
     ]
    }
   ],
   "source": [
    "for i in dff:\n",
    "    print(i.shape)"
   ]
  },
  {
   "cell_type": "code",
   "execution_count": 62,
   "metadata": {},
   "outputs": [
    {
     "ename": "TypeError",
     "evalue": "cat() received an invalid combination of arguments - got (Tensor, dim=int), but expected one of:\n * (tuple of Tensors tensors, int dim, *, Tensor out)\n * (tuple of Tensors tensors, name dim, *, Tensor out)\n",
     "output_type": "error",
     "traceback": [
      "\u001b[0;31m---------------------------------------------------------------------------\u001b[0m",
      "\u001b[0;31mTypeError\u001b[0m                                 Traceback (most recent call last)",
      "\u001b[0;32m/var/folders/5x/3g67fwns0mb68s__c_3fk4wr0000gn/T/ipykernel_54772/4058345429.py\u001b[0m in \u001b[0;36m<module>\u001b[0;34m\u001b[0m\n\u001b[1;32m      1\u001b[0m \u001b[0mdff\u001b[0m \u001b[0;34m=\u001b[0m \u001b[0mtorch\u001b[0m\u001b[0;34m.\u001b[0m\u001b[0mtensor\u001b[0m\u001b[0;34m(\u001b[0m\u001b[0mdff\u001b[0m\u001b[0;34m[\u001b[0m\u001b[0;34m:\u001b[0m\u001b[0;34m-\u001b[0m\u001b[0;36m1\u001b[0m\u001b[0;34m]\u001b[0m\u001b[0;34m)\u001b[0m\u001b[0;34m\u001b[0m\u001b[0;34m\u001b[0m\u001b[0m\n\u001b[0;32m----> 2\u001b[0;31m \u001b[0mdff\u001b[0m \u001b[0;34m=\u001b[0m \u001b[0mtorch\u001b[0m\u001b[0;34m.\u001b[0m\u001b[0mcat\u001b[0m\u001b[0;34m(\u001b[0m\u001b[0mdff\u001b[0m\u001b[0;34m[\u001b[0m\u001b[0;34m:\u001b[0m\u001b[0;34m-\u001b[0m\u001b[0;36m1\u001b[0m\u001b[0;34m]\u001b[0m\u001b[0;34m,\u001b[0m \u001b[0mdim\u001b[0m\u001b[0;34m=\u001b[0m\u001b[0;36m0\u001b[0m\u001b[0;34m)\u001b[0m\u001b[0;34m\u001b[0m\u001b[0;34m\u001b[0m\u001b[0m\n\u001b[0m\u001b[1;32m      3\u001b[0m \u001b[0mdff\u001b[0m\u001b[0;34m.\u001b[0m\u001b[0mshape\u001b[0m\u001b[0;34m\u001b[0m\u001b[0;34m\u001b[0m\u001b[0m\n",
      "\u001b[0;31mTypeError\u001b[0m: cat() received an invalid combination of arguments - got (Tensor, dim=int), but expected one of:\n * (tuple of Tensors tensors, int dim, *, Tensor out)\n * (tuple of Tensors tensors, name dim, *, Tensor out)\n"
     ]
    }
   ],
   "source": [
    "dff = torch.tensor(dff[:-1])\n",
    "dff = torch.cat(dff[:-1], dim=0)\n",
    "dff.shape"
   ]
  },
  {
   "cell_type": "code",
   "execution_count": 57,
   "metadata": {},
   "outputs": [
    {
     "data": {
      "text/plain": [
       "<matplotlib.image.AxesImage at 0x7fc05ae8f3d0>"
      ]
     },
     "execution_count": 57,
     "metadata": {},
     "output_type": "execute_result"
    },
    {
     "data": {
      "image/png": "[encoded data removed]",
      "text/plain": [
       "<Figure size 432x288 with 1 Axes>"
      ]
     },
     "metadata": {
      "needs_background": "light"
     },
     "output_type": "display_data"
    }
   ],
   "source": [
    "plt.imshow(spectrogram[:,:3])"
   ]
  },
  {
   "cell_type": "code",
   "execution_count": 16,
   "metadata": {},
   "outputs": [],
   "source": [
    "dff.to_pickle(path+\"/labeled_data.pkl\")"
   ]
  },
  {
   "cell_type": "code",
   "execution_count": 17,
   "metadata": {},
   "outputs": [],
   "source": [
    "df = pd.read_pickle(path+\"/labeled_data.pkl\")"
   ]
  },
  {
   "cell_type": "code",
   "execution_count": 39,
   "metadata": {},
   "outputs": [
    {
     "data": {
      "text/plain": [
       "(182, 6)"
      ]
     },
     "execution_count": 39,
     "metadata": {},
     "output_type": "execute_result"
    }
   ],
   "source": [
    "df.shape"
   ]
  },
  {
   "cell_type": "markdown",
   "metadata": {},
   "source": [
    "### 1.5 filtering targeted activities and making the labels sequencials"
   ]
  },
  {
   "cell_type": "code",
   "execution_count": 18,
   "metadata": {},
   "outputs": [
    {
     "data": {
      "text/plain": [
       "(0, 5)"
      ]
     },
     "execution_count": 18,
     "metadata": {},
     "output_type": "execute_result"
    }
   ],
   "source": [
    "df = df[df['activity'].isin([1,2,3,4,5,6,7,12,13,16,17])]\n",
    "df['activity'].loc[(df['activity']==12)] = 8\n",
    "df['activity'].loc[(df['activity']==13)] = 9\n",
    "df['activity'].loc[(df['activity']==16)] = 10\n",
    "df['activity'].loc[(df['activity']==17)] = 0\n",
    "df[df['activity'] == 10].shape"
   ]
  },
  {
   "cell_type": "code",
   "execution_count": 19,
   "metadata": {},
   "outputs": [],
   "source": [
    "df0 =  df[df['activity']==0]\n",
    "df0_100 = df0.reset_index().iloc[:1000]\n",
    "\n",
    "df1 =  df[df['activity']==1]\n",
    "df1_100 = df1.reset_index().iloc[:1000]\n",
    "\n",
    "df2 =  df[df['activity']==2]\n",
    "df2_100 = df2.reset_index().iloc[:1000]\n",
    "\n",
    "df3 =  df[df['activity']==3]\n",
    "df3_100 = df3.reset_index().iloc[:1000]\n",
    "\n",
    "df4 =  df[df['activity']==4]\n",
    "df4_100 = df4.reset_index().iloc[:1000]\n",
    "\n",
    "df5 =  df[df['activity']==5]\n",
    "df5_100 = df5.reset_index().iloc[:1000]\n",
    "\n",
    "df6 =  df[df['activity']==6]\n",
    "df6_100 = df6.reset_index().iloc[:1000]\n",
    "\n",
    "df7 =  df[df['activity']==7]\n",
    "df7_100 = df7.reset_index().iloc[:1000]"
   ]
  },
  {
   "cell_type": "code",
   "execution_count": 20,
   "metadata": {},
   "outputs": [],
   "source": [
    "df = pd.concat([df0_100, df1_100, df2_100, df3_100,df4_100,df5_100,df6_100,df7_100])"
   ]
  },
  {
   "cell_type": "code",
   "execution_count": 21,
   "metadata": {},
   "outputs": [],
   "source": [
    "loader_df = pd.DataFrame(columns=['id', 'input_5_timesteps', 'label'])\n",
    "id = 0\n",
    "for user in unique_users:\n",
    "    for action in unique_actions:\n",
    "        ua_df = df[(df['user']==user) & (df['activity']==action)]\n",
    "        for t in range(0, ua_df.shape[0], 5):\n",
    "          vec_acc = ua_df.iloc[t:t+5]['acc_spec'].tolist()\n",
    "          vec_gyro = ua_df.iloc[t:t+5]['gyro_spec'].tolist()\n",
    "          vec_acc_gyro = [vec_acc] + [vec_gyro]\n",
    "          instance = pd.DataFrame({'id': id, 'input_5_timesteps': [vec_acc_gyro], 'label': action})\n",
    "          loader_df = loader_df.append(instance, ignore_index=True)\n",
    "          id += 1"
   ]
  },
  {
   "cell_type": "code",
   "execution_count": 22,
   "metadata": {},
   "outputs": [
    {
     "name": "stdout",
     "output_type": "stream",
     "text": [
      "********* 36\n"
     ]
    },
    {
     "name": "stderr",
     "output_type": "stream",
     "text": [
      "/var/folders/5x/3g67fwns0mb68s__c_3fk4wr0000gn/T/ipykernel_54772/607291761.py:8: UserWarning: Creating a tensor from a list of numpy.ndarrays is extremely slow. Please consider converting the list to a single numpy.ndarray with numpy.array() before converting to a tensor. (Triggered internally at  /Users/distiller/project/conda/conda-bld/pytorch_1639180852547/work/torch/csrc/utils/tensor_new.cpp:201.)\n",
      "  x_tensor = torch.FloatTensor(x[i])\n"
     ]
    }
   ],
   "source": [
    "x = loader_df['input_5_timesteps']\n",
    "id = []\n",
    "label = []\n",
    "tensor_input = []\n",
    "\n",
    "for i in range(len(x)):\n",
    "  try:\n",
    "    x_tensor = torch.FloatTensor(x[i])\n",
    "    # print(x_tensor.shape)\n",
    "    if x_tensor.shape == torch.Size([2, 5, 13, 10]):\n",
    "      tensor_input.append(x_tensor)\n",
    "      label.append(loader_df['label'][i])\n",
    "      id.append(loader_df['id'][i])\n",
    "\n",
    "  except:\n",
    "    print('*********',i)"
   ]
  },
  {
   "cell_type": "code",
   "execution_count": 23,
   "metadata": {},
   "outputs": [
    {
     "data": {
      "image/png": "[encoded data removed]",
      "text/plain": [
       "<Figure size 432x288 with 1 Axes>"
      ]
     },
     "metadata": {
      "needs_background": "light"
     },
     "output_type": "display_data"
    }
   ],
   "source": [
    "plt.hist(label, bins=8);"
   ]
  },
  {
   "cell_type": "code",
   "execution_count": 24,
   "metadata": {},
   "outputs": [
    {
     "data": {
      "text/plain": [
       "(36, 36, 36)"
      ]
     },
     "execution_count": 24,
     "metadata": {},
     "output_type": "execute_result"
    }
   ],
   "source": [
    "len(id), len(label), len(tensor_input)"
   ]
  },
  {
   "cell_type": "code",
   "execution_count": 25,
   "metadata": {},
   "outputs": [
    {
     "data": {
      "text/plain": [
       "(array([1]), array([36]))"
      ]
     },
     "execution_count": 25,
     "metadata": {},
     "output_type": "execute_result"
    }
   ],
   "source": [
    "np.unique(label, return_counts=True)"
   ]
  },
  {
   "cell_type": "markdown",
   "metadata": {},
   "source": [
    "### Dataloader"
   ]
  },
  {
   "cell_type": "code",
   "execution_count": 26,
   "metadata": {},
   "outputs": [],
   "source": [
    "id = torch.tensor(id)\n",
    "label = torch.tensor(label)\n",
    "tensor_input = torch.stack(tensor_input)"
   ]
  },
  {
   "cell_type": "code",
   "execution_count": 38,
   "metadata": {},
   "outputs": [
    {
     "data": {
      "text/plain": [
       "torch.Size([36, 2, 5, 13, 10])"
      ]
     },
     "execution_count": 38,
     "metadata": {},
     "output_type": "execute_result"
    }
   ],
   "source": [
    "tensor_input.shape # (num_of_instances, K:2, t:5, feature: 13,10)"
   ]
  },
  {
   "cell_type": "code",
   "execution_count": 27,
   "metadata": {},
   "outputs": [
    {
     "name": "stdout",
     "output_type": "stream",
     "text": [
      "28 training samples\n",
      "8 validation samples\n"
     ]
    }
   ],
   "source": [
    "dataset = TensorDataset(id, tensor_input, label)\n",
    "train_size = int(0.80 * len(dataset))\n",
    "val_size = len(dataset) - train_size\n",
    "train_dataset, val_dataset = random_split(dataset, [train_size, val_size])\n",
    "\n",
    "print(f'{train_size} training samples')\n",
    "print(f'{val_size} validation samples')"
   ]
  },
  {
   "cell_type": "code",
   "execution_count": 28,
   "metadata": {},
   "outputs": [],
   "source": [
    "torch.manual_seed(0)\n",
    "batch_size = 1\n",
    "train_dataloader = DataLoader(\n",
    "            train_dataset,  \n",
    "            sampler = RandomSampler(train_dataset), \n",
    "            batch_size = batch_size\n",
    "            )\n",
    "validation_dataloader = DataLoader(\n",
    "            val_dataset, \n",
    "            sampler = SequentialSampler(val_dataset),\n",
    "            batch_size = batch_size\n",
    "            )"
   ]
  },
  {
   "cell_type": "code",
   "execution_count": 33,
   "metadata": {},
   "outputs": [
    {
     "name": "stdout",
     "output_type": "stream",
     "text": [
      "torch.Size([1, 2, 5, 13, 10])\n",
      "torch.Size([1])\n"
     ]
    }
   ],
   "source": [
    "for i, data in enumerate(train_dataloader,0):\n",
    "    _, inputs, labels = data\n",
    "    print(inputs.shape)\n",
    "    print(labels.shape)\n",
    "    break"
   ]
  },
  {
   "cell_type": "code",
   "execution_count": 42,
   "metadata": {},
   "outputs": [
    {
     "data": {
      "image/png": "[encoded data removed]",
      "text/plain": [
       "<Figure size 1080x360 with 10 Axes>"
      ]
     },
     "metadata": {
      "needs_background": "light"
     },
     "output_type": "display_data"
    }
   ],
   "source": [
    "fig, axes = plt.subplots(2, 5, sharex=True, sharey=False, figsize=(15,5))\n",
    "instance = next(iter(train_dataloader))\n",
    "for i in range(5):\n",
    "    axes[0,i].imshow(instance[1][0][0][i])\n",
    "    axes[0,i].set_title(f'acc timestep {i+1}')\n",
    "for i in range(5):\n",
    "    axes[1,i].imshow(instance[1][0][1][i])\n",
    "    axes[1,i].set_title(f'gyro timestep {i+1}')"
   ]
  },
  {
   "cell_type": "markdown",
   "metadata": {},
   "source": [
    "## 2. Model"
   ]
  },
  {
   "cell_type": "code",
   "execution_count": null,
   "metadata": {},
   "outputs": [],
   "source": [
    "\"\"\"\n",
    "data.shape: [B, K, T, F]\n",
    "====== train CNN for every mode ======\n",
    "conv_in.shape: [B, C, T, F]\n",
    "conv_out.shape:[B, T, D] D=C*F\n",
    "============ merge modes =============\n",
    "attn1_in.shape: [B, T, M, D] M:mode\n",
    "attn1_out.shape:[B, T, D]\n",
    "============ train GRU ===============\n",
    "gru_in.shape: [B, T, D]\n",
    "gru_out.shape:[B, T, D']\n",
    "=========== merge time info ==========\n",
    "attn2_in.shape: [B, T, D']\n",
    "attn2_out.shape:[B, D']\n",
    "fc_in.shape: [B, N] N: num_activities\n",
    "output.shape:[B, N]\n",
    "\n",
    "\"\"\""
   ]
  },
  {
   "cell_type": "markdown",
   "metadata": {},
   "source": [
    "### 2.1 CNN"
   ]
  },
  {
   "cell_type": "code",
   "execution_count": null,
   "metadata": {},
   "outputs": [],
   "source": [
    "class Conv(nn.Module):\n",
    "    # input shape: Batch,in_channels,H(height),W(width)\n",
    "    # in this case: Batch, in_channels, time_window, frequency\n",
    "    def __init__(self, in_channels, out_channels, kernel_size, padding='valid'):\n",
    "        super(Conv, self).__init__()\n",
    "        if padding == 'valid':\n",
    "            self.padding = 0\n",
    "        elif padding == 'same':\n",
    "            self.padding = 'same'\n",
    "        else:\n",
    "            raise ValueError(\"Invalid padding mode. Use 'valid' or 'same'.\")\n",
    "            \n",
    "        self.conv1 = nn.Sequential(\n",
    "            nn.Conv2d(in_channels, out_channels[0], kernel_size[0], stride=(1, 2*3), padding=self.padding),\n",
    "            nn.BatchNorm2d(out_channels[0]), \n",
    "            # Batch Normalization: Accelerating Deep Network Training by Reducing Internal Covariate Shift\n",
    "            nn.ReLU(inplace=True),\n",
    "            nn.Dropout2d(p=1-CONV_KEEP_PROB),\n",
    "        )\n",
    "        self.conv2 = nn.Sequential(\n",
    "            nn.Conv2d(out_channels[0], out_channels[1], kernel_size[1], stride=(1,1), padding=self.padding),\n",
    "            nn.BatchNorm2d(out_channels[1]),\n",
    "            nn.ReLU(inplace=True),\n",
    "            nn.Dropout2d(p=1-CONV_KEEP_PROB),\n",
    "            nn.MaxPool2d(kernel_size=2)\n",
    "        )\n",
    "        self.conv3 = nn.Sequential(\n",
    "            nn.Conv2d(out_channels[1], out_channels[2], kernel_size[2], stride=(1,1), padding=self.padding),\n",
    "            nn.BatchNorm2d(out_channels[2]),\n",
    "            nn.ReLU(inplace=True),\n",
    "            nn.MaxPool2d(kernel_size=2)\n",
    "        )\n",
    "        # self.fc = nn.Linear(in_channels, out_channels)\n",
    "\n",
    "    def forward(self, inputs):\n",
    "        print('x.shape 1: ', inputs.shape)\n",
    "        x = self.conv1(inputs)\n",
    "        print('x.shape 2: ', x.shape)\n",
    "        x = self.conv2(x)\n",
    "        print('x.shape 3: ', x.shape)\n",
    "        x = self.conv3(x)\n",
    "        print('x.shape 4: ', x.shape)\n",
    "        x = x.unsqueeze(2) # shape = [B,C,1,f,t]\n",
    "        # x = torch.flatten(x, start_dim=1) # shape = [B,C*f*t]\n",
    "        # print('x.shape 5: ', x.shape)\n",
    "        # x = self.fc(x)\n",
    "        # print('x.shape 6: ', x.shape)\n",
    "        return x"
   ]
  },
  {
   "cell_type": "markdown",
   "metadata": {},
   "source": [
    "### 2.2 Attention"
   ]
  },
  {
   "cell_type": "code",
   "execution_count": 23,
   "metadata": {},
   "outputs": [],
   "source": [
    "def attention_mode(inputs): # Attention-fusion Subnet\n",
    "    \"\"\"\n",
    "    input shape: [batch, time_window, input_mode, feature_dim(f*channels)]\n",
    "    output shape:[batch, time_window, feature_dim]\n",
    "    \n",
    "    \"\"\"\n",
    "    d = inputs.shape[-1]\n",
    "\n",
    "    w = torch.nn.Parameter(torch.randn(d, requires_grad=True) * 0.1) # weights\n",
    "    b = torch.nn.Parameter(torch.randn(1, requires_grad=True))\n",
    "\n",
    "    activation = torch.tanh(torch.tensordot(inputs, w, dims=1) + b)  # b * t * m\n",
    "    alphas = F.softmax(activation, dim=2)  # b * t * m\n",
    "    print(\"alphas \", str(alphas.shape))\n",
    "\n",
    "    # l = inputs.shape[-2]\n",
    "    # print(d,l)\n",
    "    # w = torch.randn([d,l], requires_grad=True, dtype=torch.double) * 0.1 # weights\n",
    "    # b = torch.randn(l, requires_grad=True, dtype=torch.double) * 0.1 \n",
    "    # omega = torch.randn(l, requires_grad=True, dtype=torch.double) * 0.1 \n",
    "    # activation = torch.tanh(torch.matmul(inputs,w) + b)  # b * t * m * m = [b,t,i,d] * [d,i]\n",
    "    # activation = torch.matmul(activation,omega) # b * t * m = [b,t,i,i] * [i]\n",
    "    # alphas = F.softmax(activation, dim=2)  # b * t * m\n",
    "    # print(\"alphas \", str(alphas.shape))\n",
    "    \n",
    "    beta = inputs * alphas.unsqueeze(-1)\n",
    "    print(beta.shape)\n",
    "    output = torch.sum(beta, dim=2)  # b * t * d = [b,t,i,d] * [b,t,i,1] element_wise\n",
    "    print(output.shape) #shape: [batch, time_window, feature_dim]\n",
    "    return alphas, output"
   ]
  },
  {
   "cell_type": "code",
   "execution_count": 26,
   "metadata": {},
   "outputs": [],
   "source": [
    "def attention_time(inputs, attention_size):\n",
    "    \"\"\"\n",
    "    input shape: [batch, time_window, feature_dim]\n",
    "    output shape:[batch, feature_dim]\n",
    "    \"\"\"\n",
    "    if isinstance(inputs, tuple):\n",
    "        # In case of Bi-RNN, concatenate the forward and the backward RNN outputs.\n",
    "        inputs = torch.cat(inputs, 2)\n",
    "    \n",
    "    hidden_size = inputs.shape[2]  #inputs: (B,T,D)\n",
    "\n",
    "    # Trainable parameters\n",
    "    w_omega = nn.Parameter(torch.randn(hidden_size, attention_size) * 0.1)\n",
    "    b_omega = nn.Parameter(torch.randn(attention_size) * 0.1)\n",
    "    u_omega = nn.Parameter(torch.randn(attention_size) * 0.1)\n",
    "    # with torch.name_scope('v'):\n",
    "    #     # Applying fully connected layer with non-linear activation to each of the B*T timestamps;\n",
    "    #     # the shape of `v` is (B,T,D)*(D,A)=(B,T,A), where A=attention_size\n",
    "    #     v = torch.tanh(torch.matmul(inputs, w_omega) + b_omega)\n",
    "\n",
    "    v = torch.tanh(torch.matmul(inputs, w_omega) + b_omega)  # (B,T,A) shape\n",
    "    # For each of the timestamps, its vector of size A from `v` is reduced with the `u` vector\n",
    "    vu = torch.matmul(v, u_omega).squeeze(-1)  # (B,T) shape\n",
    "    alphas = F.softmax(vu, dim=1)   # (B,T) shape\n",
    "\n",
    "    # Output of (Bi-)RNN is reduced with the attention vector; the result has (B,D) shape\n",
    "    output = torch.sum(inputs * alphas.unsqueeze(-1), dim=1)\n",
    "\n",
    "    return output, alphas\n"
   ]
  },
  {
   "cell_type": "markdown",
   "metadata": {},
   "source": [
    "### 2.3 AttnSense"
   ]
  },
  {
   "cell_type": "code",
   "execution_count": 28,
   "metadata": {},
   "outputs": [],
   "source": [
    "class AttnSense(nn.Module):\n",
    "    def __init__(self):\n",
    "        super(AttnSense, self).__init__()\n",
    "        self.attn1 = attention_mode()\n",
    "        self.attn2 = attention_time()\n",
    "        self.conv = Conv()\n",
    "\n",
    "        # Define GRU layer\n",
    "        # nn.GRU(input_size, hidden_size, num_layers)\n",
    "        # input:[batch, seq_len, input_size], h_0:[num_layers * num_directions, batch, hidden_size], defaults to zeros if not provided.\n",
    "        # output: [batch, seq_len, hidden_size * num_directions], containing the output features (h_t) from the last layer of the GRU, for each t.\n",
    "        # h_n:[num_layers * num_directions, batch, hidden_size], containing the final hidden state for the input sequence.\n",
    "        self.gru1 = nn.GRU(input_size, hidden_size, batch_first=True)\n",
    "        self.gru2 = nn.GRU(hidden_size, hidden_size, batch_first=True)\n",
    "        self.fc_gru = nn.Linear(hidden_size, 8) # input: [B,D]\n",
    "\n",
    "        self.AZ = 80\n",
    "        self.attn2_out = None\n",
    "\n",
    "    def forward(self, inputs, modes):\n",
    "        # split data based on modality and train Conv for every modality.\n",
    "        m = []\n",
    "        for i in range(modes):\n",
    "            m.append(inputs[0][i].reshape(B,T,K,D))\n",
    "\n",
    "        conv_out_1 = self.conv(m[0], \"acc\", train=self.train)\n",
    "        conv_out_2 = self.conv(m[1], \"gyro\", train=self.train)\n",
    "        conv_out_all = torch.cat([conv_out_1, conv_out_2], dim=2)\n",
    "        print('conv_out.shape:', conv_out_1.shape, conv_out_2.shape, conv_out_all.shape)\n",
    "\n",
    "        attn1_in = conv_out_all.view(conv_out_all.size(0), conv_out_all.size(1), conv_out_all.size(2),\n",
    "                                            conv_out_all.size(3) * conv_out_all.size(4))\n",
    "        print(attn1_in.shape)\n",
    "        attn1_out = self.attn1(attn1_in)\n",
    "\n",
    "        # self.init_state = torch.zeros(2, attn1_out.size(0), self.cell.hidden_size, dtype=torch.float32)\n",
    "        # h_t = self.init_state\n",
    "        # for t in range(attn1_out.size(1)):\n",
    "        #     h_t = self.cell(attn1_out[:, t], h_t)\n",
    "        #     gru_out.append(h_t)\n",
    "        # gru_out = torch.stack(gru_out, dim=1)  # (batch, time_window, DIM)\n",
    "\n",
    "        gru_1, _ = self.gru1(attn1_out)\n",
    "        gru_out = self.gru2(gru_1) # (batch, time_window, DIM)\n",
    "        print('gru_out.shape:', gru_out.shape)\n",
    "\n",
    "        attn2_out, _ = self.attn2(gru_out, attention_size=self.AZ)\n",
    "        print('attn2_out.shape:', attn2_out.shape)\n",
    "\n",
    "        x = self.fc_gru(attn2_out)\n",
    "        x = F.softmax(x, dim=1)\n",
    "\n",
    "        return x\n"
   ]
  },
  {
   "cell_type": "markdown",
   "metadata": {},
   "source": [
    "## 3. Experiment"
   ]
  },
  {
   "cell_type": "markdown",
   "metadata": {},
   "source": [
    "### 3.1 parameters"
   ]
  },
  {
   "cell_type": "code",
   "execution_count": null,
   "metadata": {},
   "outputs": [],
   "source": [
    "torch.manual_seed(RANDOM_STATE)\n",
    "\n",
    "SEPCTURAL_SAMPLES = 10\n",
    "FEATURE_DIM = SEPCTURAL_SAMPLES*6*2\n",
    "CONV_LEN = 3\n",
    "CONV_LEN_INTE = 3#4\n",
    "CONV_LEN_LAST = 3#5\n",
    "CONV_NUM = 64 #CONV_NUM = out channels = in channels * conv_num'\n",
    "CONV_MERGE_LEN = 8\n",
    "CONV_MERGE_LEN2 = 6\n",
    "CONV_MERGE_LEN3 = 4\n",
    "CONV_NUM2 = 64\n",
    "INTER_DIM = 120\n",
    "OUT_DIM = 6#len(idDict)\n",
    "WIDE = 20\n",
    "CONV_KEEP_PROB = 0.8\n",
    "\n",
    "BATCH_SIZE = 64\n",
    "TOTAL_ITER_NUM = 30000\n",
    "\n",
    "select = 'a'\n",
    "\n",
    "metaDict = {'a':[119080, 1193], 'b':[116870, 1413], 'c':[116020, 1477]}\n",
    "TRAIN_SIZE = metaDict[select][0]\n",
    "EVAL_DATA_SIZE = metaDict[select][1]\n",
    "EVAL_ITER_NUM = int(math.ceil(EVAL_DATA_SIZE / BATCH_SIZE))\n",
    "\n",
    "device = torch.device(\"cuda:0\" if torch.cuda.is_available() else \"cpu\")\n",
    "path = './'"
   ]
  },
  {
   "cell_type": "markdown",
   "metadata": {},
   "source": [
    "### 3.2 data loader"
   ]
  },
  {
   "cell_type": "code",
   "execution_count": null,
   "metadata": {},
   "outputs": [],
   "source": [
    "torch.manual_seed(0)\n",
    "batch_size = 1\n",
    "train_dataloader = DataLoader(\n",
    "            train_dataset,  \n",
    "            sampler = RandomSampler(train_dataset), \n",
    "            batch_size = batch_size\n",
    "            )\n",
    "validation_dataloader = DataLoader(\n",
    "            val_dataset, \n",
    "            sampler = SequentialSampler(val_dataset),\n",
    "            batch_size = batch_size\n",
    "            )"
   ]
  },
  {
   "cell_type": "markdown",
   "metadata": {},
   "source": [
    "### 3.3 training"
   ]
  },
  {
   "cell_type": "code",
   "execution_count": null,
   "metadata": {},
   "outputs": [],
   "source": [
    "def train_model(model, traindata, valdata, epochs, path, num):\n",
    "    model = model.to(device)\n",
    "    criterion = nn.CrossEntropyLoss().to(device)\n",
    "    optimizer = torch.optim.RMSprop(model.parameters(), lr=0.001).to(device)\n",
    "\n",
    "    # low_loss = 0\n",
    "    history = dict(train=[], val=[])\n",
    "    t_s = time.time()\n",
    "\n",
    "    for epoch in range(epochs+1):\n",
    "        t_ss = time.time()\n",
    "        model = model.train()\n",
    "        train_losses = []\n",
    "        val_losses = []\n",
    "        print(epoch, \"start!\")\n",
    "        for i, data in enumerate(traindata):\n",
    "            _, inputs, labels = data\n",
    "            inputs = inputs.to(device)\n",
    "            labels = labels.to(device)\n",
    "\n",
    "            optimizer.zero_grad()\n",
    "\n",
    "            outputs = model(inputs)\n",
    "\n",
    "            loss = criterion(outputs, labels)\n",
    "            loss.backward()\n",
    "            optimizer.step()\n",
    "            \n",
    "            train_losses.append(loss.item())\n",
    "            print(loss.item().shape)\n",
    "\n",
    "        train_loss = np.mean(train_losses)\n",
    "        history['train'].append(train_loss)\n",
    "        \n",
    "        if epoch % 50 == 49:\n",
    "            model = model.eval()\n",
    "            with torch.no_grad():\n",
    "                for i, data in enumerate(valdata,0):\n",
    "                    _, inputs, labels = data\n",
    "                    inputs = inputs.to(device)\n",
    "                    labels = labels.to(device)\n",
    "                    outputs = model(inputs)\n",
    "                    loss = criterion(outputs, labels)\n",
    "                    val_losses.append(loss.item())\n",
    "\n",
    "            val_loss = np.mean(val_losses)\n",
    "            history['val'].append(val_loss)\n",
    "            print(f'Epoch = {epoch}, val loss = {val_loss}')\n",
    "\n",
    "        t_ee = time.time()\n",
    "        print(f'Epoch = {epoch}, train loss = {train_loss}, time = {t_ee-t_ss}')\n",
    "\n",
    "        # if val_loss < 1.7 and low_loss == 0:\n",
    "        #     low_loss = val_loss\n",
    "        #     torch.save(model.state_dict(), path+'Attn_model'+num)\n",
    "        # if val_loss < low_loss:\n",
    "        #     low_loss = val_loss\n",
    "        #     torch.save(model.state_dict(), path+'Attn_model'+num)\n",
    "\n",
    "    t_e = time.time()\n",
    "    print(f'Finish! time_cost: {t_e-t_s}')\n",
    "\n",
    "    return model.eval(), history"
   ]
  },
  {
   "cell_type": "code",
   "execution_count": null,
   "metadata": {},
   "outputs": [],
   "source": []
  },
  {
   "cell_type": "code",
   "execution_count": null,
   "metadata": {},
   "outputs": [],
   "source": [
    "model = AttnSense()\n",
    "model, history = train_model(model, traindata, valdata, epochs, path, num)"
   ]
  },
  {
   "cell_type": "code",
   "execution_count": null,
   "metadata": {},
   "outputs": [],
   "source": [
    "\"\"\" save model \"\"\"\n",
    "model_2 = model\n",
    "MODEL_PATH = 'Attn_model_final.pth'\n",
    "torch.save(model_2, MODEL_PATH)"
   ]
  },
  {
   "cell_type": "code",
   "execution_count": null,
   "metadata": {},
   "outputs": [],
   "source": [
    "model_2 = torch.load(\"Attn_model_final.pth\")\n",
    "print(model_2.forward)"
   ]
  },
  {
   "cell_type": "markdown",
   "metadata": {},
   "source": [
    "### 3.4 evaluation"
   ]
  },
  {
   "cell_type": "code",
   "execution_count": null,
   "metadata": {},
   "outputs": [],
   "source": [
    "def evaluation_model(model, testdata):\n",
    "    correct = 0\n",
    "    total = 0\n",
    "    all_preds = torch.tensor([])\n",
    "    all_lab = torch.tensor([])\n",
    "\n",
    "    with torch.no_grad():\n",
    "        for data in testdata:\n",
    "            _, inputs, labels = data\n",
    "            outputs = model(inputs)\n",
    "            _, predicted = torch.max(outputs.data, 1)\n",
    "            total += labels.size(0)\n",
    "            correct += (predicted == labels).sum().item()\n",
    "            all_preds = torch.cat((all_preds, predicted) ,dim=0)\n",
    "            all_lab = torch.cat((all_lab, labels) ,dim=0)\n",
    "    print('Accuracy of the network on the test images: %d %%' % (100 * correct / total))\n",
    "    return all_lab, all_preds"
   ]
  },
  {
   "cell_type": "code",
   "execution_count": null,
   "metadata": {},
   "outputs": [],
   "source": [
    "y_true, y_pred = evaluation_model(model, testdata)"
   ]
  },
  {
   "cell_type": "code",
   "execution_count": null,
   "metadata": {},
   "outputs": [],
   "source": [
    "sn.heatmap(pd.DataFrame(confusion_matrix(y_true, y_pred), columns=activities, index=activities), annot=True)"
   ]
  }
 ],
 "metadata": {
  "kernelspec": {
   "display_name": "study",
   "language": "python",
   "name": "python3"
  },
  "language_info": {
   "codemirror_mode": {
    "name": "ipython",
    "version": 3
   },
   "file_extension": ".py",
   "mimetype": "text/x-python",
   "name": "python",
   "nbconvert_exporter": "python",
   "pygments_lexer": "ipython3",
   "version": "3.9.7"
  },
  "orig_nbformat": 4
 },
 "nbformat": 4,
 "nbformat_minor": 2
}
